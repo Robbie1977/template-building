{
 "cells": [
  {
   "cell_type": "code",
   "execution_count": null,
   "metadata": {},
   "outputs": [],
   "source": [
    "import sys\n",
    "import glob\n",
    "import re\n",
    "import fnmatch\n",
    "import math\n",
    "import re\n",
    "import os\n",
    "from os import listdir\n",
    "from os.path import join, isfile, basename\n",
    "\n",
    "import itertools\n",
    "\n",
    "import numpy as np\n",
    "from numpy import float32, int32, uint8, dtype, genfromtxt\n",
    "\n",
    "from scipy.stats import ttest_ind\n",
    "\n",
    "import pandas as pd\n",
    "\n",
    "import matplotlib\n",
    "%matplotlib inline\n",
    "import matplotlib.pyplot as plt\n",
    "from matplotlib.ticker import MultipleLocator, LogLocator, FormatStrFormatter\n",
    "\n",
    "import seaborn as sns\n",
    "\n",
    "import colorsys"
   ]
  },
  {
   "cell_type": "code",
   "execution_count": null,
   "metadata": {},
   "outputs": [],
   "source": [
    "# table_f='/groups/saalfeld/home/bogovicj/pubDrafts/grpDrosTemplate/grpDrosTemplate/table.dat'\n",
    "table_f='/groups/saalfeld/home/bogovicj/pubDrafts/grpDrosTemplate/grpDrosTemplate/table_20180319.dat'\n",
    "\n",
    "table_raw = pd.read_csv( table_f,\n",
    "                         names=['ALG','TEMPLATE','MEAN_D','MEDIAN_D','GMODE_D','CPUTIME'])\n",
    "    \n",
    "# table_raw"
   ]
  },
  {
   "cell_type": "code",
   "execution_count": null,
   "metadata": {},
   "outputs": [],
   "source": [
    "# Filter the table\n",
    "\n",
    "regexp=re.compile('\\s+ANTs Wolf')\n",
    "table = table_raw[ table_raw.apply( lambda x: ( regexp.search( x['ALG'] ) is None ), axis=1)]\n"
   ]
  },
  {
   "cell_type": "code",
   "execution_count": null,
   "metadata": {},
   "outputs": [],
   "source": [
    "plt.scatter( table.CPUTIME/3600., table.MEAN_D )\n",
    "plt.xlabel('CPU HOURS')\n",
    "plt.ylabel('MEAN DISTANCE')\n",
    "\n",
    "ax = plt.gca()\n",
    "for i,row in table.iterrows():\n",
    "\n",
    "    dist = '%0.2f' % (row['MEAN_D'])\n",
    "    time = '%0.1fh' % (row['CPUTIME'])\n",
    "#     s = \"   \" + dist + \", \" + time + \" (\" +table.loc[i,'ALG'].lstrip(' ') + \"-\" + (table.loc[i,'TEMPLATE']).lstrip(' ') +\")\"\n",
    "    s = \"   \" + row['ALG'].lstrip(' ') + \"-\" + (row['TEMPLATE']).lstrip(' ')\n",
    "    ax.annotate( s, (row['CPUTIME']/3600., row['MEAN_D'] ) )\n",
    "    \n",
    "ax.set_xscale('log')\n",
    "\n",
    "ax.yaxis.set_minor_locator( MultipleLocator(0.2) )\n",
    "plt.grid( which='minor', linestyle=':', dashes=(3,3))\n",
    "\n",
    "plt.xlim(10000./3600,1200000./3600)\n",
    "\n",
    "fig = plt.gcf()\n",
    "a = fig.set_size_inches( 16, 10 )\n",
    "fout_prefix=\"/groups/saalfeld/home/bogovicj/pubDrafts/grpDrosTemplate/grpDrosTemplate/figs/speed_quality_20180319\"\n",
    "# plt.savefig(fout_prefix+\".svg\")\n",
    "# plt.savefig(fout_prefix+\".pdf\")\n",
    "# plt.savefig(fout_prefix+\".png\")"
   ]
  },
  {
   "cell_type": "code",
   "execution_count": null,
   "metadata": {},
   "outputs": [],
   "source": [
    "# A table that only shows the 'best' few results\n",
    "# Where best means having mean distance less than 4.1\n",
    "\n",
    "goodtable = table[ table.MEAN_D < 4.1 ]\n",
    "\n",
    "plt.scatter( goodtable.CPUTIME/3600., goodtable.MEAN_D )\n",
    "plt.xlabel('CPU HOURS')\n",
    "plt.ylabel('MEAN DISTANCE')\n",
    "\n",
    "ax = plt.gca()\n",
    "for i,row in goodtable.iterrows():\n",
    "    dist = '%0.2f' % (row['MEAN_D'])\n",
    "    time = '%0.1fh' % (row['CPUTIME']/(3600))\n",
    "    s = \"   \" + row['ALG'].lstrip(' ') + \"-\" + (row['TEMPLATE']).lstrip(' ') + \"\\n   (\" + time + \", \" + dist + \")\"\n",
    "    ax.annotate( s, (row['CPUTIME']/3600., row['MEAN_D'] ) )\n",
    "\n",
    "ax.set_xscale('log')\n",
    "# ax.xaxis.set_ticks(np.arange( 0, 550000, 10000 ))\n",
    "ax.yaxis.set_minor_locator( MultipleLocator(0.02) )\n",
    "\n",
    "plt.xlim(10000/3600.,1200000/3600.)\n",
    "\n",
    "# plt.grid()\n",
    "plt.grid( which='minor', linestyle=':', dashes=(3,3))\n",
    "\n",
    "\n",
    "fig = plt.gcf()\n",
    "a = fig.set_size_inches( 16, 5 )\n",
    "fout_prefix=\"/groups/saalfeld/home/bogovicj/pubDrafts/grpDrosTemplate/grpDrosTemplate/figs/speed_quality_best\"\n",
    "# plt.savefig(fout_prefix+\".svg\")\n",
    "# plt.savefig(fout_prefix+\".pdf\")\n",
    "# plt.savefig(fout_prefix+\".png\")\n",
    "\n"
   ]
  }
 ],
 "metadata": {
  "kernelspec": {
   "display_name": "Python [conda env:py36]",
   "language": "python",
   "name": "conda-env-py36-py"
  },
  "language_info": {
   "codemirror_mode": {
    "name": "ipython",
    "version": 3
   },
   "file_extension": ".py",
   "mimetype": "text/x-python",
   "name": "python",
   "nbconvert_exporter": "python",
   "pygments_lexer": "ipython3",
   "version": "3.6.3"
  }
 },
 "nbformat": 4,
 "nbformat_minor": 2
}
