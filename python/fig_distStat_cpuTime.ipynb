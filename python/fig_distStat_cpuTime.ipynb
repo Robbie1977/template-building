{
 "cells": [
  {
   "cell_type": "code",
   "execution_count": null,
   "metadata": {},
   "outputs": [],
   "source": [
    "import sys\n",
    "import glob\n",
    "import re\n",
    "import fnmatch\n",
    "import math\n",
    "import re\n",
    "import os\n",
    "from os import listdir\n",
    "from os.path import join, isfile, basename\n",
    "\n",
    "import itertools\n",
    "\n",
    "import numpy as np\n",
    "from numpy import float32, int32, uint8, dtype, genfromtxt\n",
    "\n",
    "from scipy.stats import ttest_ind\n",
    "\n",
    "import pandas as pd\n",
    "\n",
    "import matplotlib\n",
    "%matplotlib inline\n",
    "import matplotlib.pyplot as plt\n",
    "from matplotlib.ticker import MultipleLocator, LogLocator, FormatStrFormatter\n",
    "\n",
    "import seaborn as sns\n",
    "\n",
    "import colorsys\n",
    "\n",
    "import template_common as tc"
   ]
  },
  {
   "cell_type": "code",
   "execution_count": null,
   "metadata": {},
   "outputs": [],
   "source": [
    "from IPython.core.display import display, HTML\n",
    "display(HTML(\"<style>.container { width:95% !important; }</style>\"))"
   ]
  },
  {
   "cell_type": "code",
   "execution_count": null,
   "metadata": {},
   "outputs": [],
   "source": [
    "# Generate the time table from raw data\n",
    "## See Vis_Pairwise_alg-temp "
   ]
  },
  {
   "cell_type": "code",
   "execution_count": null,
   "metadata": {},
   "outputs": [],
   "source": [
    "# table_f='/groups/saalfeld/home/bogovicj/pubDrafts/grpDrosTemplate/grpDrosTemplate/table.dat'\n",
    "time_table_f='/groups/saalfeld/home/bogovicj/pubDrafts/grpDrosTemplate/grpDrosTemplate/table_cputime.csv'\n",
    "time_table_raw = pd.read_csv( time_table_f )\n",
    "\n",
    "\n",
    "base_dir='/nrs/saalfeld/john/projects/flyChemStainAtlas/all_evals/distanceStatsWarpNorm'\n",
    "dest_dir = '/groups/saalfeld/home/bogovicj/pubDrafts/grpDrosTemplate/grpDrosTemplate/tables'\n",
    "fig_dir = '/groups/saalfeld/home/bogovicj/pubDrafts/grpDrosTemplate/grpDrosTemplate/figs'\n",
    "\n",
    "\n",
    "alg_list = ['antsRegDog', 'antsRegOwl', 'antsRegYang', 'cmtkCOG', 'cmtkCow', 'cmtkHideo']\n",
    "# template_list = [ 'JFRC2013_lo', 'JFRCtemplate2010', 'TeforBrain_f', 'F-antsFlip_lo', 'F-cmtkFlip_lof', 'FCWB']\n",
    "template_list = [ 'JFRC2013_lo', 'JFRCtemplate2010', 'TeforBrain_f', 'F-antsFlip_lo', 'FCWB']\n",
    "\n",
    "\n",
    "# Load distance stats\n",
    "df = None\n",
    "# for tmp in template_list:\n",
    "for f in glob.glob( ''.join([base_dir,'/*.csv']) ):\n",
    "#     f = glob.glob( ''.join([base_dir,'/',tmp,'.csv']) )\n",
    "    print( f )\n",
    "    this_df = pd.read_csv( f, header=[0,1], index_col=0 )\n",
    "    if df is None:\n",
    "        df = this_df\n",
    "    else:\n",
    "        df = df.append( this_df )\n",
    "\n",
    "clean_cols( df )\n",
    "df['std'] = df.apply( lambda x: math.sqrt(x['var']), axis=1)\n",
    "df['gam_std'] = df.apply( lambda x: math.sqrt(x['gam_var']), axis=1)\n",
    "df['ray_std'] = df.apply( lambda x: math.sqrt(x['ray_var']), axis=1)\n",
    "df.reset_index( drop=True )"
   ]
  },
  {
   "cell_type": "code",
   "execution_count": null,
   "metadata": {},
   "outputs": [],
   "source": [
    "labels = [16,64,8,32,2,4,65,66,33,67,34,17,69,70,35,71,9,18,72,36,73,74,37,75,19,76,38,77,39,78,79,20,5,40,80,10,81,82,83,84,85,86,11,22,23,24,12,3,6,49,50,25,51,13,52,26,53,27,54,55,56,28,7,14,57,58,29,59,30,60,15,61,31,62,63]\n",
    "label_names_file = '/groups/saalfeld/home/bogovicj/vfb/DrosAdultBRAINdomains/refData/Original_Index.tsv'\n",
    "\n",
    "label_names = pd.read_csv( label_names_file, delimiter='\\t', header=0 )\n",
    "# print label_names[ label_names['Stack id'] == 11 ]['JFRCtempate2010.mask130819' ].iloc[0]\n",
    "# print label_names[ label_names['Stack id'] == 70 ]['JFRCtempate2010.mask130819' ].iloc[0]\n",
    "\n",
    "def get_label_name( label_id ):\n",
    "    return label_names[ label_names['Stack id'] == label_id ]['JFRCtempate2010.mask130819' ].iloc[0]\n",
    "\n",
    "def clean_cols( df ):\n",
    "    ## clean up the weird columns\n",
    "    df.columns = [ c[0] if c[1].startswith('Unnamed') else c[1] for c in df.columns.values ]\n",
    "    \n",
    "def flatten_heir_cols( df ):\n",
    "    ## flatten heirarchical columns\n",
    "    df.columns = [ '_'.join(c) for c in df.columns.values ]\n",
    "    \n",
    "template_color_map = { 'JFRC2010':'firebrick',\n",
    "                       'JFRC2013':'navy',\n",
    "                       'FCWB':'darkgreen',\n",
    "                       'Tefor':'darkorchid',\n",
    "                       'JRC2018':'black',\n",
    "#                        'CMTK groupwise':'gray'\n",
    "                       'CMTK groupwise':'darkorange'\n",
    "                     }"
   ]
  },
  {
   "cell_type": "code",
   "execution_count": null,
   "metadata": {},
   "outputs": [],
   "source": []
  },
  {
   "cell_type": "code",
   "execution_count": null,
   "metadata": {
    "scrolled": true
   },
   "outputs": [],
   "source": [
    "# filter templates\n",
    "tmask = df.apply( lambda x: (x['TEMPLATE'] in template_list ), axis=1)\n",
    "df = df.loc[tmask]\n",
    "\n",
    "# Filter out appropriate rows and columns\n",
    "mean_table = df.loc[ (df.LABEL == -1) & (df.ALG != 'ALL')][['ALG','TEMPLATE','mean']]\n",
    "mean_table['TEMPLATE'] = mean_table.apply(lambda x: tc.template_name(x['TEMPLATE']), axis=1)\n",
    "mean_table['ALG'] = mean_table.apply(lambda x: tc.alg_name(x['ALG']), axis=1)\n",
    "mean_table['TA'] = mean_table.apply(lambda x: ''.join([x['TEMPLATE'],':',x['ALG']]), axis=1)\n",
    "mean_table"
   ]
  },
  {
   "cell_type": "code",
   "execution_count": null,
   "metadata": {
    "scrolled": true
   },
   "outputs": [],
   "source": [
    "# Filter the time table\n",
    "\n",
    "regexp=re.compile('\\s+ANTs Wolf')\n",
    "time_table = time_table_raw[ time_table_raw.apply( lambda x: ( regexp.search( x['ALG'] ) is None ), axis=1)]\n",
    "\n",
    "time_table['TEMPLATE'] = time_table.apply(lambda x: tc.template_name(x['TEMPLATE']), axis=1)\n",
    "time_table['ALG'] = time_table.apply(lambda x: tc.alg_name(x['ALG']), axis=1)\n",
    "\n",
    "# # filter templates\n",
    "time_table = time_table.loc[time_table.TEMPLATE != 'CMTK groupwise']\n",
    "time_table['TA'] = time_table.apply(lambda x: ''.join([x['TEMPLATE'],':',x['ALG']]), axis=1)\n",
    "time_table"
   ]
  },
  {
   "cell_type": "code",
   "execution_count": null,
   "metadata": {
    "scrolled": true
   },
   "outputs": [],
   "source": [
    "# combine the tables\n",
    "\n",
    "mean_time_table = mean_table.set_index('TA').join( time_table.set_index('TA'), lsuffix='_mn')\n",
    "mean_time_table = mean_time_table.reset_index()[['ALG','TEMPLATE','CPUTIME','mean']]\n",
    "mean_time_table"
   ]
  },
  {
   "cell_type": "code",
   "execution_count": null,
   "metadata": {
    "scrolled": true
   },
   "outputs": [],
   "source": [
    "# plt.scatter( mean_time_table.CPUTIME/3600., mean_time_table['mean'] )\n",
    "\n",
    "ax = plt.gca()\n",
    "for i,row in mean_time_table.iterrows():\n",
    "\n",
    "    dist = '%0.2f' % (row['mean'])\n",
    "    time = '%0.1fh' % (row['CPUTIME'])\n",
    "#     s = \"   \" + alg_name_map[row['ALG'].lstrip(' ')] + \"-\" + template_name_map[(row['TEMPLATE']).lstrip(' ')]\n",
    "    s = \"   \" + tc.alg_name(row['ALG'].lstrip(' ').rstrip(' ')) + \" : \" + tc.template_name((row['TEMPLATE']).lstrip(' '))\n",
    "#     s = \"   \" + row['ALG'].lstrip(' ') + \"-\" + (row['TEMPLATE']).lstrip(' ')\n",
    "    c = template_color_map[row['TEMPLATE']]\n",
    "    ax.annotate( s, (row['CPUTIME']/3600., row['mean'] ), color=c, size=13 )\n",
    "    plt.scatter( row['CPUTIME']/3600., row['mean'], color=c )\n",
    "    \n",
    "ax.set_xscale('log')\n",
    "plt.xlabel('CPU hours', size=18)\n",
    "plt.ylabel('Mean distance (um)', size=18)\n",
    "plt.xticks(fontsize=16)\n",
    "plt.yticks(fontsize=16)\n",
    "\n",
    "ax.yaxis.set_minor_locator( MultipleLocator(0.2) )\n",
    "plt.grid( which='minor', linestyle=':', dashes=(3,3))\n",
    "\n",
    "plt.xlim(10000./3600,1200000./3600)\n",
    "\n",
    "fig = plt.gcf()\n",
    "\n",
    "\n",
    "a = fig.set_size_inches( 16, 10 )\n",
    "fout_prefix=\"/groups/saalfeld/home/bogovicj/pubDrafts/grpDrosTemplate/grpDrosTemplate/figs/speed_quality_20180531\"\n",
    "plt.savefig(fout_prefix+\".svg\")\n",
    "plt.savefig(fout_prefix+\".pdf\")\n",
    "plt.savefig(fout_prefix+\".png\")"
   ]
  },
  {
   "cell_type": "code",
   "execution_count": null,
   "metadata": {},
   "outputs": [],
   "source": [
    "# A table that only shows the 'best' few results\n",
    "# Where best means having mean distance less than 4.1\n",
    "\n",
    "goodtable = mean_time_table[ mean_time_table['mean'] < 4.1 ]\n",
    "\n",
    "# plt.scatter( goodtable.CPUTIME/3600., goodtable.MEAN_D )\n",
    "plt.xlabel('CPU hours')\n",
    "plt.ylabel('Mean distance (um)')\n",
    "\n",
    "ax = plt.gca()\n",
    "for i,row in goodtable.iterrows():\n",
    "    dist = '%0.2f' % (row['mean'])\n",
    "    time = '%0.1fh' % (row['CPUTIME'])\n",
    "    s = \"   \" + tc.alg_name(row['ALG'].lstrip(' ').rstrip(' ')) + \" : \" + tc.template_name((row['TEMPLATE']).lstrip(' '))\n",
    "    c = template_color_map[row['TEMPLATE']]\n",
    "    ax.annotate( s, (row['CPUTIME']/3600., row['mean'] ), color=c, size=13 )\n",
    "    plt.scatter( row['CPUTIME']/3600., row['mean'], color=c )\n",
    "\n",
    "ax.set_xscale('log')\n",
    "# ax.xaxis.set_ticks(np.arange( 0, 550000, 10000 ))\n",
    "ax.yaxis.set_minor_locator( MultipleLocator(0.02) )\n",
    "plt.xticks(fontsize=16)\n",
    "plt.yticks(fontsize=16)\n",
    "\n",
    "plt.xlim(10000/3600.,1200000/3600.)\n",
    "\n",
    "# plt.grid()\n",
    "plt.grid( which='minor', linestyle=':', dashes=(3,3))\n",
    "\n",
    "\n",
    "fig = plt.gcf()\n",
    "a = fig.set_size_inches( 16, 5 )\n",
    "fout_prefix=\"/groups/saalfeld/home/bogovicj/pubDrafts/grpDrosTemplate/grpDrosTemplate/figs/speed_quality_best_20180531\"\n",
    "plt.savefig(fout_prefix+\".svg\")\n",
    "plt.savefig(fout_prefix+\".pdf\")\n",
    "plt.savefig(fout_prefix+\".png\")"
   ]
  },
  {
   "cell_type": "code",
   "execution_count": null,
   "metadata": {},
   "outputs": [],
   "source": []
  }
 ],
 "metadata": {
  "kernelspec": {
   "display_name": "Python [conda env:py36]",
   "language": "python",
   "name": "conda-env-py36-py"
  },
  "language_info": {
   "codemirror_mode": {
    "name": "ipython",
    "version": 3
   },
   "file_extension": ".py",
   "mimetype": "text/x-python",
   "name": "python",
   "nbconvert_exporter": "python",
   "pygments_lexer": "ipython3",
   "version": "3.6.3"
  }
 },
 "nbformat": 4,
 "nbformat_minor": 2
}
