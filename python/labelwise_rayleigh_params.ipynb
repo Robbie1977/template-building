{
 "cells": [
  {
   "cell_type": "code",
   "execution_count": 1,
   "metadata": {},
   "outputs": [],
   "source": [
    "import sys\n",
    "import glob\n",
    "import re\n",
    "import fnmatch\n",
    "import math\n",
    "import os\n",
    "from os import listdir\n",
    "from os.path import join, isfile, basename\n",
    "\n",
    "import itertools\n",
    "\n",
    "import numpy as np\n",
    "from numpy import float32, int32, uint8, dtype, genfromtxt\n",
    "\n",
    "import scipy\n",
    "from scipy.stats import ttest_ind\n",
    "\n",
    "import pandas as pd\n",
    "\n",
    "import matplotlib\n",
    "%matplotlib inline\n",
    "import matplotlib.pyplot as plt\n",
    "\n",
    "import seaborn as sns\n",
    "\n",
    "import colorsys"
   ]
  },
  {
   "cell_type": "code",
   "execution_count": 2,
   "metadata": {},
   "outputs": [],
   "source": [
    "labels = [16,64,8,32,2,4,65,66,33,67,34,17,69,70,35,71,9,18,72,36,73,74,37,75,19,76,38,77,39,78,79,20,5,40,80,10,81,82,83,84,85,86,11,22,23,24,12,3,6,49,50,25,51,13,52,26,53,27,54,55,56,28,7,14,57,58,29,59,30,60,15,61,31,62,63]\n",
    "label_names_file = '/groups/saalfeld/home/bogovicj/vfb/DrosAdultBRAINdomains/refData/Original_Index.tsv'\n",
    "\n",
    "label_names = pd.read_csv( label_names_file, delimiter='\\t', header=0 )\n",
    "# print label_names[ label_names['Stack id'] == 11 ]['JFRCtempate2010.mask130819' ].iloc[0]\n",
    "# print label_names[ label_names['Stack id'] == 70 ]['JFRCtempate2010.mask130819' ].iloc[0]\n",
    "\n",
    "def get_label_name( label_id ):\n",
    "    return label_names[ label_names['Stack id'] == label_id ]['JFRCtempate2010.mask130819' ].iloc[0]\n"
   ]
  },
  {
   "cell_type": "code",
   "execution_count": 3,
   "metadata": {},
   "outputs": [],
   "source": [
    "templates = ['JFRCtemplate2010', 'JFRC2013_lo', 'F-antsFlip_lo', 'F-cmtkFlip_lof', 'TeforBrain_f']\n",
    "reg_methods = [ 'cmtkCow', 'cmtkCOG', 'cmtkHideo', 'antsRegOwl', 'antsRegDog', 'antsRegYang' ]"
   ]
  },
  {
   "cell_type": "code",
   "execution_count": 4,
   "metadata": {},
   "outputs": [],
   "source": [
    "line=3\n",
    "dist_samples_f = '/nrs/saalfeld/john/projects/flyChemStainAtlas/all_evals/label_data_line{}.csv.gz'.format( line )\n",
    "dist_samples_df = pd.read_csv( dist_samples_f, header=None, names=['TEMPLATE','ALG','LINE','LABEL','DISTANCE'] )"
   ]
  },
  {
   "cell_type": "code",
   "execution_count": null,
   "metadata": {},
   "outputs": [
    {
     "name": "stdout",
     "output_type": "stream",
     "text": [
      "['cmtkCow' 'cmtkCOG' 'cmtkHideo' 'antsRegDog' 'antsRegYang' 'antsRegOwl']\n",
      "['F-antsFlip_lo' 'JFRC2013_lo' 'F-cmtkFlip_lof' 'TeforBrain_f'\n",
      " 'JFRCtemplate2010']\n"
     ]
    }
   ],
   "source": [
    "# dist_samples_df.head()\n",
    "\n",
    "print( dist_samples_df['ALG'].unique())\n",
    "print( dist_samples_df['TEMPLATE'].unique())"
   ]
  },
  {
   "cell_type": "code",
   "execution_count": null,
   "metadata": {
    "scrolled": true
   },
   "outputs": [
    {
     "name": "stdout",
     "output_type": "stream",
     "text": [
      "t  JFRCtemplate2010\n",
      "a  cmtkCow\n"
     ]
    }
   ],
   "source": [
    "ray_offset = []\n",
    "ray_scale = []\n",
    "tlist = []\n",
    "alist = []\n",
    "llist = []\n",
    "\n",
    "for t in templates:\n",
    "    t_dists = dist_samples_df[ dist_samples_df.TEMPLATE == t ]\n",
    "    print( 't ', t )\n",
    "    \n",
    "    for a in reg_methods:\n",
    "        print( 'a ', a )\n",
    "        a_dists = t_dists[ t_dists.ALG == a ]\n",
    "        \n",
    "        for l in labels:\n",
    "            l_dists = a_dists[ a_dists.LABEL == l ].DISTANCE\n",
    "\n",
    "#             print( l )\n",
    "#             print( l_dists.size )\n",
    "\n",
    "            tlist += [t]\n",
    "            alist += [a]\n",
    "            llist += [l]\n",
    "            \n",
    "            if( l_dists.size > 10 ):\n",
    "                params = scipy.stats.rayleigh.fit( l_dists )\n",
    "                ray_offset += [ params[0]]\n",
    "                ray_scale += [ params[1]]\n",
    "            else:\n",
    "                ray_offset += [float('nan')]\n",
    "                ray_scale += [float('nan')]\n",
    "\n",
    "#             print( len(ray_offset))\n",
    "#             print( len(ray_scale))\n",
    "#             print( ' ' )\n",
    "            \n",
    "        # merge all labels\n",
    "        tlist += [t]\n",
    "        alist += [a]\n",
    "        llist += [-1]\n",
    "        if( a_dists.size > 10 ):\n",
    "            params = scipy.stats.rayleigh.fit( a_dists )\n",
    "            ray_offset += [ params[0]]\n",
    "            ray_scale += [ params[1]]\n",
    "        else:\n",
    "            ray_offset += [float('nan')]\n",
    "            ray_scale += [float('nan')]\n",
    "    \n"
   ]
  },
  {
   "cell_type": "code",
   "execution_count": null,
   "metadata": {},
   "outputs": [],
   "source": [
    "# print( len(llist) )\n",
    "# print( len(tlist) )\n",
    "# print( len(alist) )\n",
    "# print( len(ray_offset) )\n",
    "# print( len(ray_scale) )\n",
    "\n",
    "ray_df = pd.DataFrame( {'LABEL':llist,\n",
    "                        'ALG':alist,\n",
    "                        'TEMPLATE':tlist,\n",
    "                        'RAY_OFFSET':ray_offset,\n",
    "                        'RAY_SCALE':ray_scale })\n",
    "\n",
    "ray_df.to_csv('/nrs/saalfeld/john/projects/flyChemStainAtlas/all_evals/stats/rayleigh_params.csv')"
   ]
  }
 ],
 "metadata": {
  "kernelspec": {
   "display_name": "Python [conda env:py36]",
   "language": "python",
   "name": "conda-env-py36-py"
  },
  "language_info": {
   "codemirror_mode": {
    "name": "ipython",
    "version": 3
   },
   "file_extension": ".py",
   "mimetype": "text/x-python",
   "name": "python",
   "nbconvert_exporter": "python",
   "pygments_lexer": "ipython3",
   "version": "3.6.3"
  }
 },
 "nbformat": 4,
 "nbformat_minor": 2
}
