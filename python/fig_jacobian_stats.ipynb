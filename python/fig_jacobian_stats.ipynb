{
 "cells": [
  {
   "cell_type": "code",
   "execution_count": null,
   "metadata": {},
   "outputs": [],
   "source": [
    "import sys\n",
    "import glob\n",
    "import re\n",
    "import fnmatch\n",
    "import math\n",
    "import re\n",
    "import os\n",
    "from os import listdir\n",
    "from os.path import join, isfile, basename\n",
    "\n",
    "import itertools\n",
    "\n",
    "import numpy as np\n",
    "from numpy import float32, int32, uint8, dtype, genfromtxt\n",
    "\n",
    "from scipy.stats import ttest_ind\n",
    "\n",
    "import pandas as pd\n",
    "\n",
    "import matplotlib\n",
    "%matplotlib inline\n",
    "import matplotlib.pyplot as plt\n",
    "from matplotlib.ticker import MultipleLocator, LogLocator, FormatStrFormatter\n",
    "\n",
    "import seaborn as sns\n",
    "\n",
    "import colorsys"
   ]
  },
  {
   "cell_type": "code",
   "execution_count": null,
   "metadata": {},
   "outputs": [],
   "source": [
    "from IPython.core.display import display, HTML\n",
    "display(HTML(\"<style>.container { width:90% !important; }</style>\"))"
   ]
  },
  {
   "cell_type": "code",
   "execution_count": null,
   "metadata": {},
   "outputs": [],
   "source": [
    "# Meta parameters\n",
    "\n",
    "\n",
    "# leave empty for raw stats, \n",
    "#   set to 'log' for log stats \n",
    "islog=''\n",
    "\n",
    "# what label to use (-1 combines all labels)\n",
    "label=-1\n",
    "\n",
    "# make a string from the label\n",
    "labelstr = 'all' if( label < 0 ) else str(label )\n",
    "print( labelstr )"
   ]
  },
  {
   "cell_type": "code",
   "execution_count": null,
   "metadata": {},
   "outputs": [],
   "source": [
    "# Load the table\n",
    "table_f='/nrs/saalfeld/john/projects/flyChemStainAtlas/all_evals/jacobianStats/jacobian_{}stats_wSubs.csv'.format( islog )\n",
    "df_raw = pd.read_csv( table_f )"
   ]
  },
  {
   "cell_type": "code",
   "execution_count": null,
   "metadata": {},
   "outputs": [],
   "source": [
    "df_raw['TEMPLATEALG'] = df_raw.apply( lambda x : str(x['TEMPLATE']+' '+x['ALG']), axis=1 )"
   ]
  },
  {
   "cell_type": "code",
   "execution_count": null,
   "metadata": {},
   "outputs": [],
   "source": [
    "# df_raw.tail()"
   ]
  },
  {
   "cell_type": "code",
   "execution_count": null,
   "metadata": {},
   "outputs": [],
   "source": [
    "# df_raw[['TEMPLATEALG','STAT','VALUE']]\n",
    "# dfp = df_raw[['TEMPLATEALG','STAT','VALUE']].pivot( index='TEMPLATEALG', columns='STAT', values='VALUE' )\n",
    "# dfp\n",
    "\n",
    "# Mean of means\n",
    "dfm = df_raw[ (df_raw.STAT == 'MEAN') & (df_raw.LABEL == label) ].drop(columns=['LINE','LABEL'])\n",
    "dfmg = dfm.groupby(['TEMPLATEALG'], as_index=False ).mean()\n",
    "dfmg.columns = ['TEMPLATEALG','MEAN']\n",
    "print(dfmg.head())\n",
    "print( ' ' )\n",
    "\n",
    "# Mean of variances\n",
    "# ( average of stdds is  sqrt( sd_1^2 + sd_2^2 + ... + sd_k^2 ))\n",
    "dfv = df_raw[ (df_raw.STAT == 'STDDEV') & (df_raw.LABEL == label) ].drop(columns=['LINE','LABEL','STAT'])\n",
    "dfv['VARIANCE'] = dfv.apply( lambda x : x['VALUE']*x['VALUE'], axis=1)\n",
    "dfvg = dfv.groupby(['TEMPLATEALG'], as_index=False ).sum()\n",
    "\n",
    "# Can drop the value ( formerly stdev )\n",
    "# new stdev is the sqrt of sum of variances\n",
    "dfvg['STDDEV'] = dfvg.apply( lambda x : math.sqrt( x['VARIANCE'] ), axis=1 )\n",
    "dfvg = dfvg.drop( columns=['VALUE'])\n",
    "print( dfvg.head())\n",
    "\n",
    "# Generate additional stats\n",
    "\n",
    "## RANGE = MAX - MIN\n",
    "# df['RANGE'] = df.apply( lamda x: x['MAX'] - x['MIN'], axis=1)\n"
   ]
  },
  {
   "cell_type": "code",
   "execution_count": null,
   "metadata": {},
   "outputs": [],
   "source": [
    "# Combine these two tables\n",
    "# df_meanStd = dfmg.set_index('TEMPLATEALG').join( dfvg.set_index('TEMPLATEALG') )\n",
    "df_meanStd = dfmg.join( dfvg, lsuffix='_M', rsuffix='_S' )\n",
    "df_meanStd"
   ]
  },
  {
   "cell_type": "code",
   "execution_count": null,
   "metadata": {},
   "outputs": [],
   "source": [
    "# Plot mean agains standard deviation\n",
    "\n",
    "plt.scatter( df_meanStd.MEAN, df_meanStd.STDDEV )\n",
    "plt.xlabel('Mean-mean jacobian determinant')\n",
    "plt.ylabel('Mean-stddev jacobian determinant ')\n",
    "\n",
    "ax = plt.gca()\n",
    "for i,row in df_meanStd.iterrows():\n",
    "    s = \"   \" + row['TEMPLATEALG_M']\n",
    "    ax.annotate( s, (row['MEAN'],row['STDDEV']))\n",
    "\n",
    "fig = plt.gcf()\n",
    "a = fig.set_size_inches( 16, 10 )"
   ]
  }
 ],
 "metadata": {
  "kernelspec": {
   "display_name": "Python [conda env:py36]",
   "language": "python",
   "name": "conda-env-py36-py"
  },
  "language_info": {
   "codemirror_mode": {
    "name": "ipython",
    "version": 3
   },
   "file_extension": ".py",
   "mimetype": "text/x-python",
   "name": "python",
   "nbconvert_exporter": "python",
   "pygments_lexer": "ipython3",
   "version": "3.6.3"
  }
 },
 "nbformat": 4,
 "nbformat_minor": 2
}
