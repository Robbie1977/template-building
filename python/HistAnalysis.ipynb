{
 "cells": [
  {
   "cell_type": "code",
   "execution_count": 1,
   "metadata": {
    "collapsed": false
   },
   "outputs": [],
   "source": [
    "import sys\n",
    "import glob\n",
    "import re\n",
    "import fnmatch\n",
    "from os import listdir\n",
    "from os.path import join, isfile, basename\n",
    "\n",
    "import numpy as np\n",
    "from numpy import float32, int32, uint8, dtype, genfromtxt\n",
    "\n",
    "import pandas \n",
    "\n",
    "import matplotlib\n",
    "%matplotlib inline\n",
    "import matplotlib.pyplot as plt"
   ]
  },
  {
   "cell_type": "code",
   "execution_count": 2,
   "metadata": {
    "collapsed": false
   },
   "outputs": [],
   "source": [
    "# VFB labels and label names\n",
    "labels = [16,64,8,32,2,4,65,66,33,67,34,17,69,70,35,71,9,18,72,36,73,74,37,75,19,76,38,77,39,78,79,20,5,40,80,10,81,82,83,84,85,86,11,22,23,24,12,3,6,49,50,25,51,13,52,26,53,27,54,55,56,28,7,14,57,58,29,59,30,60,15,61,31,62,63]\n",
    "label_names_file = '/groups/saalfeld/home/bogovicj/vfb/DrosAdultBRAINdomains/refData/Original_Index.tsv'\n",
    "\n",
    "label_names = pandas.read_csv( label_names_file, delimiter='\\t', header=0 )\n",
    "# print label_names[ label_names['Stack id'] == 11 ]['JFRCtempate2010.mask130819' ].iloc[0]\n",
    "# print label_names[ label_names['Stack id'] == 70 ]['JFRCtempate2010.mask130819' ].iloc[0]\n",
    "\n",
    "def get_label_name( label_id ):\n",
    "    return label_names[ label_names['Stack id'] == label_id ]['JFRCtempate2010.mask130819' ].iloc[0]\n",
    "\n",
    "# label_names['JFRCtempate2010.mask130819']\n",
    "# label_names"
   ]
  },
  {
   "cell_type": "code",
   "execution_count": 3,
   "metadata": {
    "collapsed": false
   },
   "outputs": [
    {
     "name": "stdout",
     "output_type": "stream",
     "text": [
      "[ 2  3  4  5  6  7  8  9 10 11 12 13 14 15 16 17 18 19 20 22 23 24 25 26 27\n",
      " 28 29 30 31 32 33 34 35 36 37 38 39 40 49 50 51 52 53 54 55 56 57 58 59 60\n",
      " 61 62 63 64 65 66 67 69 70 71 72 73 74 75 76 77 78 79 80 81 82 83 84 85 86]\n"
     ]
    }
   ],
   "source": [
    "ids = np.unique( label_names.as_matrix( columns=['Stack id']))\n",
    "print ids"
   ]
  },
  {
   "cell_type": "code",
   "execution_count": 4,
   "metadata": {
    "collapsed": false,
    "scrolled": true
   },
   "outputs": [
    {
     "name": "stdout",
     "output_type": "stream",
     "text": [
      " \n",
      "/nrs/saalfeld/john/projects/flyChemStainAtlas/eval/ants_jfrc2/evalComp\n",
      "/nrs/saalfeld/john/projects/flyChemStainAtlas/eval_f/ants-el-ag_owl/evalComp\n",
      "['ants_jfrc2', 'ants-el-ag_owl']\n"
     ]
    }
   ],
   "source": [
    "# Relevant directories\n",
    "\n",
    "neuron_list_file=\"/nrs/saalfeld/john/projects/flyChemStainAtlas/eval/prefix_list_by_neuron.txt\"\n",
    "f=open(neuron_list_file)\n",
    "tmp=f.read().splitlines()\n",
    "f.close()\n",
    "neurons = [ n.split(' ') for n in tmp ]\n",
    "\n",
    "print ' '\n",
    "name1 = 'ants_jfrc2'\n",
    "jfrcDir = '/nrs/saalfeld/john/projects/flyChemStainAtlas/eval/ants_jfrc2/evalComp'\n",
    "print jfrcDir\n",
    "\n",
    "name2 = 'ants-el-ag_owl'\n",
    "grpDir = '/nrs/saalfeld/john/projects/flyChemStainAtlas/eval_f/ants-el-ag_owl/evalComp'\n",
    "print grpDir\n",
    "\n",
    "names = [ name1, name2 ]\n",
    "print names "
   ]
  },
  {
   "cell_type": "code",
   "execution_count": 10,
   "metadata": {
    "collapsed": false
   },
   "outputs": [],
   "source": [
    "jfrc_hist_sizes = pandas.read_csv( '/nrs/saalfeld/john/projects/flyChemStainAtlas/eval/ants_jfrc2/evalComp/totals.csv', header=None, names=['pair','count'] )\n",
    "grp_hist_sizes = pandas.read_csv( '/nrs/saalfeld/john/projects/flyChemStainAtlas/eval_f/ants-el-ag_owl/evalComp/totals.csv', header=None, names=['pair','count'] )\n"
   ]
  },
  {
   "cell_type": "code",
   "execution_count": 293,
   "metadata": {
    "collapsed": false
   },
   "outputs": [
    {
     "data": {
      "text/plain": [
       "array([ 0,  2,  3,  4,  5,  6,  7,  8,  9, 10, 11, 12, 13, 14, 15, 16, 17,\n",
       "       18, 19, 20, 22, 23, 24, 25, 26, 27, 28, 29, 30, 31, 32, 33, 34, 35,\n",
       "       36, 37, 38, 39, 40, 49, 50, 51, 52, 53, 54, 55, 56, 57, 58, 59, 60,\n",
       "       61, 62, 63, 64, 65, 66, 67, 69, 70, 71, 72, 73, 74, 75, 76, 77, 78,\n",
       "       79, 80, 81, 82, 83, 84, 85, 86])"
      ]
     },
     "execution_count": 293,
     "metadata": {},
     "output_type": "execute_result"
    }
   ],
   "source": [
    "np.unique( jfrc_hist_sizes.as_matrix( columns=['label']))\n"
   ]
  },
  {
   "cell_type": "code",
   "execution_count": 11,
   "metadata": {
    "collapsed": false
   },
   "outputs": [],
   "source": [
    "# Functions\n",
    "\n",
    "def flatten( list_of_lists ):\n",
    "    return [ item for sublist in list_of_lists for item in sublist ]\n",
    "\n",
    "def getCount( df_counts, pair_name ):\n",
    "    res = df_counts[ df_counts.pair == pair_name ]['count']\n",
    "\n",
    "def normalizeHistogram( hist ):\n",
    "    hist[:,1] = hist[:,1]/np.sum( hist[:,1])\n",
    "    return hist\n",
    "\n",
    "def plotHistBar( hist, title ):\n",
    "    x = hist[1:-1,0]\n",
    "    y = hist[1:-1,1]\n",
    "    plt.bar( x, y )\n",
    "    plt.xlabel('Distance')\n",
    "    plt.ylabel('Freq')\n",
    "    plt.title( title )\n",
    "    \n",
    "def plotHistsTogether( hists, names ):\n",
    "    for i in range( len( hists )):\n",
    "        hist = hists[ i ]\n",
    "        x = hist[1:-1,0]\n",
    "        y = hist[1:-1,1]\n",
    "        plt.plot( x, y )\n",
    "\n",
    "    plt.xlabel('Distance')\n",
    "    plt.ylabel('Freq')\n",
    "    plt.legend( names )\n",
    "    \n",
    "def findHistCsv( folder, label, line ):\n",
    "    testf = join( folder, 'combined__labelHist_{}_line{}.csv'.format( label, line ))\n",
    "    if isfile( testf ):\n",
    "        return testf\n",
    "    else:\n",
    "        print'could not find file for label {} and line {} in folder {}'.format( label, line, folder )\n",
    "        return None\n",
    "    \n",
    "def findHistStatCsv( line_names, folder, label, line ):\n",
    "    out = []\n",
    "    for prefix in line_names[ line ]:\n",
    "        pattern = '{}/{}*_labelHist_stats_{}.csv'.format(folder,prefix,label)\n",
    "#         print pattern\n",
    "        possibles = glob.glob( pattern )\n",
    "        #print 'possibles ', possibles\n",
    "        out += possibles\n",
    "    return out\n",
    "\n",
    "def concatenateCentiles( centile_files, cent=0.5 ):\n",
    "    out = np.array([[]])\n",
    "    for f in centile_files:\n",
    "        try:\n",
    "            stats = genfromtxt( f, delimiter=',' )\n",
    "            a = stats[1, np.argwhere(stats[0,:]==cent )]\n",
    "            out = np.concatenate( (out,a), axis=1)\n",
    "        except ValueError:\n",
    "            continue\n",
    "    return out\n",
    "\n",
    "def getHistogramCounts( centile_files ):\n",
    "    out = np.array([[]])\n",
    "\n",
    "def cheap_hist_percentile( hist_in, percentile ):\n",
    "    hist = hist_in[1:-1,:]\n",
    "    total=np.sum(hist[:,1])\n",
    "    cumsum=np.cumsum(hist[:,1])\n",
    "    return hist[ cumsum > ( percentile * total ), 0 ][ 0 ]\n",
    "\n",
    "def counts( df_pair_label_counts, names ):\n",
    "    results = []\n",
    "    for n in names: \n",
    "        pair=basename( n.replace('_stats_','_'))\n",
    "#         print pair\n",
    "        thiscount = df_pair_label_counts[ df_pair_label_counts[ 'pair' ] == pair ]['count']\n",
    "\n",
    "        if thiscount.size != 1:\n",
    "            continue\n",
    "\n",
    "        results += [ thiscount.values ]\n",
    "#         print results\n",
    "        \n",
    "    return np.mean( np.array( results ))\n",
    "\n",
    "#findHistStatCsv( neurons, jfrcDir, 25, 1 )\n",
    "#findHistCsv( jfrcDir, 26, 0)\n",
    "\n",
    "# for l in labels:\n",
    "\n",
    "#     jfrcHistStatFileList = findHistStatCsv( neurons, jfrcDir, l, line )\n",
    "#     grpHistStatFileList  = findHistStatCsv( neurons, grpDir, l, line )\n",
    "# #     print grpHistStatFileList\n",
    "# #     print ' '\n",
    "#     print counts( jfrc_hist_sizes, grpHistStatFileList )\n",
    "# #     break\n",
    "    \n",
    "# pair = '20170223_32_A2-20170223_32_A6_SAME_labelHist_16.csv'\n",
    "# thiscount = jfrc_hist_sizes[ jfrc_hist_sizes[ 'pair' ] == pair ]['count']\n",
    "# # np.mean(thiscount.values)\n",
    "# thiscount.size"
   ]
  },
  {
   "cell_type": "code",
   "execution_count": 64,
   "metadata": {
    "collapsed": false
   },
   "outputs": [],
   "source": [
    "# Preprocess \n",
    "line = 1\n",
    "sample_counts = []\n",
    "sz =  None \n",
    "for l in labels:\n",
    "    jfrcHistStatFileList = findHistStatCsv( neurons, jfrcDir, l, line )\n",
    "    grpHistStatFileList  = findHistStatCsv( neurons, grpDir, l, line )\n",
    "    \n",
    "    resJfrc = concatenateCentiles( jfrcHistStatFileList )\n",
    "    resGrp = concatenateCentiles( grpHistStatFileList )    \n",
    "    if( resJfrc.shape[1] != resGrp.shape[1] ):\n",
    "        sample_counts += [ 0 ]\n",
    "        continue\n",
    "\n",
    "    if( np.any( np.array(resJfrc.shape) == 0 ) ):\n",
    "        sample_counts += [ 0 ]\n",
    "        continue\n",
    "\n",
    "    if( np.any( np.array(resGrp.shape) == 0 )):\n",
    "        sample_counts += [ 0 ]\n",
    "        continue\n",
    "        \n",
    "    if sz is None:\n",
    "        sz = resJfrc.shape[1]\n",
    "    elif( resJfrc.shape[1] != sz ):\n",
    "        sample_counts += [ 0 ]\n",
    "        continue\n",
    "    elif( resGrp.shape[1] != sz ):\n",
    "        sample_counts += [ 0 ]\n",
    "        continue\n",
    "        \n",
    "    nj = counts( jfrc_hist_sizes, jfrcHistStatFileList )\n",
    "    ng = counts( grp_hist_sizes, grpHistStatFileList )\n",
    "    sample_counts += [ ( nj + ng)  ]\n",
    "\n",
    "sample_counts = np.array( sample_counts )\n",
    "sample_counts[ np.isnan( sample_counts ) ] = 0 \n",
    "\n",
    "# print sample_counts\n",
    "\n",
    "sort_idxs = ( np.argsort( sample_counts ) )[::-1] # Reverse so its in descending order\n",
    "# print sort_idxs\n",
    "\n",
    "sorted_counts = np.array( sample_counts )[ sort_idxs  ]\n",
    "labels_sorted_by_n_samples = np.array( labels )[ sort_idxs ]\n",
    "\n",
    "# print sorted_counts\n",
    "# print len( sorted_counts )\n",
    "# print labels_sorted_by_n_samples\n",
    "\n",
    "labels_of_interest = labels_sorted_by_n_samples[ sorted_counts > 0 ]\n",
    "sorted_counts_of_interest = sorted_counts[ sorted_counts > 0 ]\n",
    "# print labels_of_interest\n",
    "# print sorted_counts_of_interest\n",
    "\n",
    "xlabels = flatten( [ [ str(get_label_name(l)), ''] for l in labels_sorted_by_n_samples ] )"
   ]
  },
  {
   "cell_type": "code",
   "execution_count": 63,
   "metadata": {
    "collapsed": false
   },
   "outputs": [
    {
     "name": "stdout",
     "output_type": "stream",
     "text": [
      "(116, 6)\n"
     ]
    },
    {
     "data": {
      "image/png": "[encoded data removed]",
      "text/plain": [
       "<matplotlib.figure.Figure at 0x7f29ba100c90>"
      ]
     },
     "metadata": {},
     "output_type": "display_data"
    }
   ],
   "source": [
    "# Do histograms\n",
    "# Go on a perline\n",
    "\n",
    "line = 1\n",
    "data = None\n",
    "\n",
    "xpositions = []\n",
    "space = 2\n",
    "p = 1\n",
    "\n",
    "sample_counts = []\n",
    "\n",
    "for l in labels_of_interest:\n",
    "#     print ' '\n",
    "#     print 'label ', l\n",
    "    \n",
    "    jfrcHistStatFileList = findHistStatCsv( neurons, jfrcDir, l, line )\n",
    "    grpHistStatFileList  = findHistStatCsv( neurons, grpDir, l, line )\n",
    "\n",
    "    resJfrc = concatenateCentiles( jfrcHistStatFileList )\n",
    "    resGrp = concatenateCentiles( grpHistStatFileList )\n",
    "#     print resJfrc.shape\n",
    "#     print resGrp.shape\n",
    "    \n",
    "#     if( resJfrc.shape[1] != resGrp.shape[1] ):\n",
    "#         print 'skip'\n",
    "#         continue\n",
    "\n",
    "#     if( np.any( np.array(resJfrc.shape) == 0 ) ):\n",
    "#         print 'skip'\n",
    "#         continue\n",
    "\n",
    "#     if( np.any( np.array(resGrp.shape) == 0 )):\n",
    "#         print 'skip'\n",
    "#         continue\n",
    "        \n",
    "    if data is not None:\n",
    "        \n",
    "#         if( resJfrc.shape[1] != data.shape[1] ):\n",
    "#             print 'skip'\n",
    "#             continue\n",
    "            \n",
    "#         if( resGrp.shape[1] != data.shape[1] ):\n",
    "#             print 'skip'\n",
    "#             continue\n",
    "            \n",
    "        data = np.concatenate( (data,resJfrc,resGrp), axis=0 )\n",
    "    else:\n",
    "        data = np.concatenate( (resJfrc,resGrp), axis=0 )\n",
    "\n",
    "\n",
    "    xpositions += [ p, p+1 ]\n",
    "    p += ( 2 + space )\n",
    "\n",
    "# END OF LOOP\n",
    "\n",
    "print data.shape\n",
    "# print xpositions\n",
    "bp = plt.boxplot( np.transpose( data ), positions=xpositions) # suppress output\n",
    "\n",
    "fig = plt.gcf()\n",
    "fig.set_size_inches( 16, 5 )\n",
    "\n",
    "c1 = '#226078'\n",
    "c2 = '#910033'\n",
    "even = True\n",
    "for box in bp['boxes']:\n",
    "    if even:\n",
    "        box.set( color=c1, linewidth=1)\n",
    "    else:\n",
    "        box.set( color=c2, linewidth=1)\n",
    "    even = not even\n",
    "\n",
    "i = 0\n",
    "for w in bp['whiskers']:\n",
    "    if i == 0 or i == 1:\n",
    "        w.set( color=c1, linewidth=0.5, linestyle='-')\n",
    "    else:\n",
    "        w.set( color=c2, linewidth=0.5, linestyle='-')\n",
    "    i += 1\n",
    "    \n",
    "    if i == 4: \n",
    "        i = 0\n",
    "    \n",
    "even = True\n",
    "for m in bp['medians']:\n",
    "    if even:\n",
    "        m.set( color=c1, linewidth=1)\n",
    "    else:\n",
    "        m.set( color=c2, linewidth=1)\n",
    "    even = not even\n",
    "\n",
    "for c in bp['caps']:\n",
    "    c.set_visible( False )\n",
    "    \n",
    "even = True\n",
    "for flier in bp['fliers']:\n",
    "    if even:\n",
    "        flier.set(marker='.', markeredgecolor=c1, markerfacecolor=c1, markersize=3, alpha=0.5 )\n",
    "    else:\n",
    "        flier.set(marker='.', markeredgecolor=c2, markerfacecolor=c2, markersize=3, alpha=0.5 )\n",
    "    even = not even\n",
    "    \n",
    "# Plot sample counts\n",
    "ax = plt.gca()\n",
    "maxy = ax.get_ylim()\n",
    "scaled_sorted_counts =  sorted_counts_of_interest * ( maxy[1] / sorted_counts_of_interest[ 0 ])\n",
    "plt.plot( xpositions[::2], scaled_sorted_counts )\n",
    "\n",
    "plt.legend( names )\n",
    "\n",
    "ax.set_xticklabels( xlabels )\n",
    "plt.setp( ax.get_xticklabels(), rotation=45, fontsize=8 )\n",
    "\n",
    "plt.savefig('/nrs/saalfeld/john/projects/flyChemStainAtlas/comparisons/test.svg')"
   ]
  },
  {
   "cell_type": "code",
   "execution_count": 62,
   "metadata": {
    "collapsed": false
   },
   "outputs": [
    {
     "name": "stdout",
     "output_type": "stream",
     "text": [
      "(0.0, 30.0)\n",
      "34477.3333333\n",
      "30.0\n",
      "58\n",
      "58\n",
      "(116, 6)\n",
      "58\n"
     ]
    }
   ],
   "source": [
    "print maxy\n",
    "print sorted_counts_of_interest[ 0 ]\n",
    "scaled_sorted_counts =  sorted_counts_of_interest * ( maxy[1] / sorted_counts_of_interest[ 0 ])\n",
    "print( scaled_sorted_counts[ 0 ])\n",
    "\n",
    "print len( xpositions[::2] )\n",
    "print len( scaled_sorted_counts)\n",
    "\n",
    "print data.shape\n",
    "print( len( labels_of_interest ) )\n",
    "\n",
    "\n",
    "# print len( scaled_sorted_counts[ scaled_sorted_counts > 0 ] )\n",
    "# print y "
   ]
  },
  {
   "cell_type": "code",
   "execution_count": null,
   "metadata": {
    "collapsed": false,
    "scrolled": false
   },
   "outputs": [],
   "source": [
    "# Testing stuff out\n",
    "\n",
    "# print xpositions\n",
    "# y = 30. - ( 30. / 230. ) * np.array( xpositions )\n",
    "# print y\n",
    "# plt.boxplot( np.transpose( data ), positions=xpositions) # suppress output\n",
    "# plt.plot( y )\n",
    "\n",
    "# plt.gca().get_ylim()\n",
    "# print labels_of_interest\n",
    "\n",
    "# l = 49\n",
    "# jfrcHistStatFileList = findHistStatCsv( neurons, jfrcDir, l, line )\n",
    "# grpHistStatFileList  = findHistStatCsv( neurons, grpDir, l, line )\n",
    "\n",
    "# print concatenateCentiles( jfrcHistStatFileList )\n",
    "# print concatenateCentiles( grpHistStatFileList )\n",
    "# print sorted_counts\n",
    "\n",
    "# print data.shape\n",
    "# data_sorted = data[ sort_idxs, : ]\n",
    "\n",
    "# print len( sort_idxs )\n",
    "\n",
    "# sorted_counts = np.sort( np.array( sample_counts ))\n",
    "# print sorted_counts\n",
    "# print sorted_counts[::-1]\n",
    "# plt.plot( sorted_counts[::-1] )\n",
    "\n",
    "# print xlabels\n",
    "# print np.array( labels )[ idxs ]\n",
    "\n",
    "# xlabels = [ str(get_label_name(l)) for l in labels_sorted_by_n_samples ]\n",
    "# print xlabels \n",
    "# xlabels"
   ]
  },
  {
   "cell_type": "code",
   "execution_count": 27,
   "metadata": {
    "collapsed": false
   },
   "outputs": [
    {
     "name": "stdout",
     "output_type": "stream",
     "text": [
      "/nrs/saalfeld/john/projects/flyChemStainAtlas/eval/ants_jfrc2/evalComp/combined__labelHist_25_line1.csv\n",
      "/nrs/saalfeld/john/projects/flyChemStainAtlas/eval_f/ants-el-ag_owl/evalComp/combined__labelHist_25_line1.csv\n"
     ]
    },
    {
     "data": {
      "image/png": "[encoded data removed]",
      "text/plain": [
       "<matplotlib.figure.Figure at 0x7f29bb7f7c90>"
      ]
     },
     "metadata": {},
     "output_type": "display_data"
    }
   ],
   "source": [
    "# Do histograms\n",
    "# Go on a per-line\n",
    "line = 1\n",
    "label = 25\n",
    "\n",
    "jfrcF = findHistCsv( jfrcDir,label, line)\n",
    "grpF  = findHistCsv( grpDir, label, line )\n",
    "\n",
    "print jfrcF\n",
    "print grpF\n",
    "\n",
    "jfrcH = genfromtxt( jfrcF, delimiter=',' )\n",
    "grpH = normalizeHistogram( genfromtxt( grpF, delimiter=',' ))\n",
    "\n",
    "jfrcHn = normalizeHistogram( jfrcH )\n",
    "grpHn = normalizeHistogram( grpH )\n",
    "\n",
    "plt.subplot(1,3,1)\n",
    "plotHistBar( jfrcHn, 'jfrc')\n",
    "plt.subplot(1,3,2)\n",
    "plotHistBar( grpHn, 'groupwise' )\n",
    "plt.subplot(1,3,3)\n",
    "plotHistsTogether( ( jfrcHn, grpHn ), ('jfrc','grp'))\n",
    "\n",
    "fig = plt.gcf()\n",
    "fig.set_size_inches( 15, 5 )"
   ]
  },
  {
   "cell_type": "code",
   "execution_count": 28,
   "metadata": {
    "collapsed": false
   },
   "outputs": [
    {
     "name": "stdout",
     "output_type": "stream",
     "text": [
      "2.58333325386\n",
      "2.58333325386\n"
     ]
    }
   ],
   "source": [
    "print cheap_hist_percentile( jfrcH, 0.2 )\n",
    "print cheap_hist_percentile( grpH, 0.2 )"
   ]
  },
  {
   "cell_type": "code",
   "execution_count": 29,
   "metadata": {
    "collapsed": false
   },
   "outputs": [],
   "source": [
    "# Load histograms \n",
    "jfrcHists = [ join( jfrcDir, f ) for f in listdir( jfrcDir ) if fnmatch.fnmatch( f, 'comb*line[0-3].csv') ]\n",
    "#rpHists = [ f for f in listdir( grpDir ) if fnmatch.fnmatch( f, 'comb*line[0-3].csv') ]\n",
    "len( jfrcHists )\n",
    "\n",
    "# hist = genfromtxt( histcsv, delimiter=',' )\n",
    "histcsv=jfrcHists[ 0 ]\n",
    "hist = genfromtxt( histcsv, delimiter=',' )\n",
    "\n",
    "#plotHistBar( hist, 'jfrc')\n",
    "\n",
    "y = hist[:,1]/np.sum( hist[:,1])\n",
    "\n"
   ]
  }
 ],
 "metadata": {
  "kernelspec": {
   "display_name": "Python 2",
   "language": "python",
   "name": "python2"
  },
  "language_info": {
   "codemirror_mode": {
    "name": "ipython",
    "version": 2
   },
   "file_extension": ".py",
   "mimetype": "text/x-python",
   "name": "python",
   "nbconvert_exporter": "python",
   "pygments_lexer": "ipython2",
   "version": "2.7.12"
  }
 },
 "nbformat": 4,
 "nbformat_minor": 0
}
