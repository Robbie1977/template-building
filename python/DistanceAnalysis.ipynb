{
 "cells": [
  {
   "cell_type": "code",
   "execution_count": 28,
   "metadata": {
    "collapsed": false
   },
   "outputs": [],
   "source": [
    "import sys\n",
    "import glob\n",
    "import re\n",
    "import fnmatch\n",
    "from os import listdir\n",
    "from os.path import join, isfile, basename\n",
    "\n",
    "import numpy as np\n",
    "from numpy import float32, int32, uint8, dtype, genfromtxt\n",
    "\n",
    "import pandas \n",
    "\n",
    "import matplotlib\n",
    "%matplotlib inline\n",
    "import matplotlib.pyplot as plt"
   ]
  },
  {
   "cell_type": "code",
   "execution_count": 2,
   "metadata": {
    "collapsed": false
   },
   "outputs": [],
   "source": [
    "# VFB labels and label names\n",
    "labels = [16,64,8,32,2,4,65,66,33,67,34,17,69,70,35,71,9,18,72,36,73,74,37,75,19,76,38,77,39,78,79,20,5,40,80,10,81,82,83,84,85,86,11,22,23,24,12,3,6,49,50,25,51,13,52,26,53,27,54,55,56,28,7,14,57,58,29,59,30,60,15,61,31,62,63]\n",
    "label_names_file = '/groups/saalfeld/home/bogovicj/vfb/DrosAdultBRAINdomains/refData/Original_Index.tsv'\n",
    "\n",
    "label_names = pandas.read_csv( label_names_file, delimiter='\\t', header=0 )\n",
    "# print label_names[ label_names['Stack id'] == 11 ]['JFRCtempate2010.mask130819' ].iloc[0]\n",
    "# print label_names[ label_names['Stack id'] == 70 ]['JFRCtempate2010.mask130819' ].iloc[0]\n",
    "\n",
    "def get_label_name( label_id ):\n",
    "    return label_names[ label_names['Stack id'] == label_id ]['JFRCtempate2010.mask130819' ].iloc[0]\n",
    "\n",
    "# label_names['JFRCtempate2010.mask130819']\n",
    "\n",
    "label_shorthand_col ='JFRCtempate2010.mask130819'\n",
    "label_id_col ='Stack id'\n",
    "\n",
    "\n",
    "# Find left-right matching labels\n",
    "rnames = label_names[ label_names.apply( lambda x : x[label_shorthand_col].endswith('_R'), axis=1 )]\n",
    "\n",
    "lr_pair_list = []\n",
    "for rn in rnames.loc[:,label_shorthand_col]:\n",
    "    ln = rn.replace('_R','_L')\n",
    "    id_R = label_names[ label_names[label_shorthand_col]==rn ].loc[:,label_id_col]\n",
    "    id_L = label_names[ label_names[label_shorthand_col]==ln ].loc[:,label_id_col]\n",
    "    lr_pair_list += [[id_R.values[0], id_L.values[0]]]\n",
    "lr_pair_list = np.array( lr_pair_list )\n",
    "# print lr_pair_list"
   ]
  },
  {
   "cell_type": "code",
   "execution_count": 3,
   "metadata": {
    "collapsed": false
   },
   "outputs": [
    {
     "name": "stdout",
     "output_type": "stream",
     "text": [
      "[ 2  3  4  5  6  7  8  9 10 11 12 13 14 15 16 17 18 19 20 22 23 24 25 26 27\n",
      " 28 29 30 31 32 33 34 35 36 37 38 39 40 49 50 51 52 53 54 55 56 57 58 59 60\n",
      " 61 62 63 64 65 66 67 69 70 71 72 73 74 75 76 77 78 79 80 81 82 83 84 85 86]\n"
     ]
    }
   ],
   "source": [
    "ids = np.unique( label_names.as_matrix( columns=['Stack id']))\n",
    "print ids"
   ]
  },
  {
   "cell_type": "code",
   "execution_count": 4,
   "metadata": {
    "collapsed": false,
    "scrolled": true
   },
   "outputs": [
    {
     "name": "stdout",
     "output_type": "stream",
     "text": [
      " \n",
      "/nrs/saalfeld/john/projects/flyChemStainAtlas/eval/ants_jfrc2/evalComp\n",
      "/nrs/saalfeld/john/projects/flyChemStainAtlas/eval_f/ants-el-ag_owl/evalComp\n",
      "['ants_jfrc2', 'ants-el-ag_owl']\n"
     ]
    }
   ],
   "source": [
    "# Relevant directories\n",
    "\n",
    "neuron_list_file=\"/nrs/saalfeld/john/projects/flyChemStainAtlas/eval/prefix_list_by_neuron.txt\"\n",
    "f=open(neuron_list_file)\n",
    "tmp=f.read().splitlines()\n",
    "f.close()\n",
    "neurons = [ n.split(' ') for n in tmp ]\n",
    "\n",
    "print ' '\n",
    "name1 = 'ants_jfrc2'\n",
    "jfrcDir = '/nrs/saalfeld/john/projects/flyChemStainAtlas/eval/ants_jfrc2/evalComp'\n",
    "print jfrcDir\n",
    "\n",
    "name2 = 'ants-el-ag_owl'\n",
    "grpDir = '/nrs/saalfeld/john/projects/flyChemStainAtlas/eval_f/ants-el-ag_owl/evalComp'\n",
    "print grpDir\n",
    "\n",
    "names = [ name1, name2 ]\n",
    "print names "
   ]
  },
  {
   "cell_type": "code",
   "execution_count": 5,
   "metadata": {
    "collapsed": false
   },
   "outputs": [],
   "source": [
    "# jfrc_hist_sizes = pandas.read_csv( '/nrs/saalfeld/john/projects/flyChemStainAtlas/eval/ants_jfrc2/evalComp/totals.csv', header=None, names=['pair','count'] )\n",
    "# grp_hist_sizes = pandas.read_csv( '/nrs/saalfeld/john/projects/flyChemStainAtlas/eval_f/ants-el-ag_owl/evalComp/totals.csv', header=None, names=['pair','count'] )\n"
   ]
  },
  {
   "cell_type": "code",
   "execution_count": 15,
   "metadata": {
    "collapsed": false
   },
   "outputs": [],
   "source": [
    "# Functions\n",
    "\n",
    "def flatten( list_of_lists ):\n",
    "    return [ item for sublist in list_of_lists for item in sublist ]\n",
    "\n",
    "def getCount( df_counts, pair_name ):\n",
    "    res = df_counts[ df_counts.pair == pair_name ]['count']\n",
    "\n",
    "def normalizeHistogram( hist ):\n",
    "    hist[:,1] = hist[:,1]/np.sum( hist[:,1])\n",
    "    return hist\n",
    "\n",
    "def plotHistBar( hist, title ):\n",
    "    x = hist[1:-1,0]\n",
    "    y = hist[1:-1,1]\n",
    "    plt.bar( x, y )\n",
    "    plt.xlabel('Distance')\n",
    "    plt.ylabel('Freq')\n",
    "    plt.title( title )\n",
    "    \n",
    "def plotHistsTogether( hists, names ):\n",
    "    for i in range( len( hists )):\n",
    "        hist = hists[ i ]\n",
    "        x = hist[1:-1,0]\n",
    "        y = hist[1:-1,1]\n",
    "        plt.plot( x, y )\n",
    "\n",
    "    plt.xlabel('Distance')\n",
    "    plt.ylabel('Freq')\n",
    "    plt.legend( names )\n",
    "    \n",
    "def findHistCsv( folder, label, line ):\n",
    "    testf = join( folder, 'combined__labelHist_{}_line{}.csv'.format( label, line ))\n",
    "    if isfile( testf ):\n",
    "        return testf\n",
    "    else:\n",
    "        print'could not find file for label {} and line {} in folder {}'.format( label, line, folder )\n",
    "        return None\n",
    "    \n",
    "def findHistStatCsv( line_names, folder, label, line ):\n",
    "    out = []\n",
    "    for prefix in line_names[ line ]:\n",
    "        pattern = '{}/{}*_labelHist_stats_{}.csv'.format(folder,prefix,label)\n",
    "#         print pattern\n",
    "        possibles = glob.glob( pattern )\n",
    "        #print 'possibles ', possibles\n",
    "        out += possibles\n",
    "    return out\n",
    "\n",
    "def findCombinedDataCsv( folder, label, line ):\n",
    "    out = []\n",
    "    pattern = '{}/combined__labelData_{}_line{}.csv'.format(folder,label,line)\n",
    "    possibles = glob.glob( pattern )\n",
    "    out += possibles\n",
    "    return out\n",
    "\n",
    "def concatenateCentiles( centile_files, cent=0.5 ):\n",
    "    out = np.array([[]])\n",
    "    for f in centile_files:\n",
    "        try:\n",
    "            stats = genfromtxt( f, delimiter=',' )\n",
    "            a = stats[1, np.argwhere(stats[0,:]==cent )]\n",
    "            out = np.concatenate( (out,a), axis=1)\n",
    "        except ValueError:\n",
    "            continue\n",
    "    return out\n",
    "\n",
    "def getHistogramCounts( centile_files ):\n",
    "    out = np.array([[]])\n",
    "\n",
    "def cheap_hist_percentile( hist_in, percentile ):\n",
    "    hist = hist_in[1:-1,:]\n",
    "    total=np.sum(hist[:,1])\n",
    "    cumsum=np.cumsum(hist[:,1])\n",
    "    return hist[ cumsum > ( percentile * total ), 0 ][ 0 ]\n",
    "\n",
    "def counts( df_pair_label_counts, names ):\n",
    "    results = []\n",
    "    for n in names: \n",
    "        pair=basename( n.replace('_stats_','_'))\n",
    "#         print pair\n",
    "        thiscount = df_pair_label_counts[ df_pair_label_counts[ 'pair' ] == pair ]['count']\n",
    "\n",
    "        if thiscount.size != 1:\n",
    "            continue\n",
    "\n",
    "        results += [ thiscount.values ]\n",
    "#         print results\n",
    "        \n",
    "    return np.mean( np.array( results ))\n"
   ]
  },
  {
   "cell_type": "code",
   "execution_count": 259,
   "metadata": {
    "collapsed": false
   },
   "outputs": [],
   "source": [
    "# Load the data \n",
    "line = 1\n",
    "sample_counts = {}\n",
    "grp_all_data = {}\n",
    "jrc_all_data = {}\n",
    "\n",
    "sz =  None \n",
    "for l in labels:\n",
    "    jfrcDataFileList = findCombinedDataCsv( jfrcDir, l, line )\n",
    "    grpDataFileList  = findCombinedDataCsv(  grpDir, l, line )\n",
    "    \n",
    "#     print grpDataFileList\n",
    "#     print jfrcDataFileList\n",
    "    grp_dat = genfromtxt( grpDataFileList[0], delimiter=',' )\n",
    "    jrc_dat = genfromtxt( jfrcDataFileList[0], delimiter=',' )\n",
    "    \n",
    "    ng = len( grp_dat )\n",
    "    nj = len( jrc_dat )\n",
    "    \n",
    "    grp_all_data[ l ] = grp_dat\n",
    "    jrc_all_data[ l ] = jrc_dat\n",
    "    sample_counts[ l ] =  ( nj + ng )\n",
    "\n",
    "\n",
    "# sample_counts = np.array( sample_counts )\n",
    "# sample_counts[ np.isnan( sample_counts ) ] = 0 \n",
    "\n",
    "# # print sample_counts\n",
    "\n",
    "# sort_idxs = ( np.argsort( sample_counts ) )[::-1] # Reverse so its in descending order\n",
    "# # print sort_idxs\n",
    "\n",
    "# sorted_counts = np.array( sample_counts )[ sort_idxs  ]\n",
    "# labels_sorted_by_n_samples = np.array( labels )[ sort_idxs ]\n",
    "\n",
    "\n",
    "# labels_of_interest = labels_sorted_by_n_samples[ sorted_counts > 0 ]\n",
    "# sorted_counts_of_interest = sorted_counts[ sorted_counts > 0 ]\n",
    "# # print labels_of_interest\n",
    "# # print sorted_counts_of_interest\n",
    "\n",
    "# xlabels = flatten( [ [ str(get_label_name(l)), ''] for l in labels_sorted_by_n_samples ] )"
   ]
  },
  {
   "cell_type": "code",
   "execution_count": 258,
   "metadata": {
    "collapsed": false
   },
   "outputs": [],
   "source": [
    "# Decide on label ordering and compile x-labels\n",
    "\n",
    "sorted_idxs  = np.argsort( np.array( sample_counts.values() ))\n",
    "# print 'sorted_idxs:'\n",
    "# print sorted_idxs\n",
    "# print ' '\n",
    "\n",
    "sorted_labels = np.array( sample_counts.keys())[ sorted_idxs ]\n",
    "sorted_labels = list(reversed(sorted_labels))\n",
    "# print 'sorted_labels:'\n",
    "# print sorted_labels\n",
    "# print ' '\n",
    "\n",
    "# print lr_pair_list[ np.where( lr_pair_list == 86 )[0], : ]\n",
    "\n",
    "ordered_labels = []\n",
    "xlabels = []\n",
    "\n",
    "# Pick xlabels based on size, but make sure left and right are adjacent\n",
    "for l in sorted_labels:\n",
    "#     print l\n",
    "    if l not in ordered_labels:\n",
    "        if l in lr_pair_list:\n",
    "            i,j =  np.where( lr_pair_list == l )\n",
    "            jother = 0 if j==1 else 1\n",
    "            alsoaddme = lr_pair_list[i,jother][0] \n",
    "            if alsoaddme < l:\n",
    "                ordered_labels += [alsoaddme, l ]\n",
    "            else:\n",
    "                ordered_labels += [ l, alsoaddme ]\n",
    "        else:\n",
    "            ordered_labels += [l]\n",
    "        \n",
    "# print ' '\n",
    "# print ordered_labels\n",
    "\n",
    "xlabels = flatten( [ [ str(get_label_name(l)), ''] for l in ordered_labels ] )\n",
    "# print xlabels"
   ]
  },
  {
   "cell_type": "code",
   "execution_count": 228,
   "metadata": {
    "collapsed": false
   },
   "outputs": [
    {
     "name": "stdout",
     "output_type": "stream",
     "text": [
      "(51956,)\n",
      "(132746,)\n",
      "[1, 4, 10, 13, 19, 22, 28, 31, 37, 40, 46, 49, 55, 58, 64, 67, 73, 76, 82, 85, 91, 94, 100, 103, 109, 112, 118, 121, 127, 130, 136, 139, 145, 148, 154, 157, 163, 166, 172, 175, 181, 184, 190, 193, 199, 202, 208, 211, 217, 220, 226, 229, 235, 238, 244, 247, 253, 256, 262, 265, 271, 274, 280, 283, 289, 292, 298, 301, 307, 310, 316, 319, 325, 328, 334, 337, 343, 346, 352, 355, 361, 364, 370, 373, 379, 382, 388, 391, 397, 400, 406, 409, 415, 418, 424, 427, 433, 436, 442, 445, 451, 454, 460, 463, 469, 472, 478, 481, 487, 490, 496, 499, 505, 508, 514, 517, 523, 526, 532, 535, 541, 544, 550, 553, 559, 562, 568, 571, 577, 580, 586, 589, 595, 598, 604, 607, 613, 616, 622, 625, 631, 634, 640, 643, 649, 652, 658, 661, 667, 670]\n"
     ]
    },
    {
     "data": {
      "image/png": "[encoded data removed]",
      "text/plain": [
       "<matplotlib.figure.Figure at 0x7f34d315b110>"
      ]
     },
     "metadata": {},
     "output_type": "display_data"
    }
   ],
   "source": [
    "# make the sorted data set\n",
    "\n",
    "print grp_all_data[27].shape\n",
    "print jrc_all_data[27].shape\n",
    "\n",
    "xpositions = []\n",
    "small_space = 3\n",
    "big_space = 6\n",
    "p = 1\n",
    "\n",
    "all_data = []\n",
    "for l in ordered_labels:\n",
    "    all_data += [ jrc_all_data[ l ] ]\n",
    "    all_data += [ grp_all_data[ l ] ]\n",
    "\n",
    "    xpositions += [ p, p + small_space ]\n",
    "    p += ( big_space + small_space )\n",
    "\n",
    "print xpositions\n",
    "    \n",
    "bp = plt.boxplot( all_data, positions=xpositions, whis=2.5, showfliers=False )\n",
    "\n",
    "c1 = '#226078'\n",
    "c2 = '#910033'\n",
    "even = True\n",
    "for box in bp['boxes']:\n",
    "    if even:\n",
    "        box.set( color=c1, linewidth=1)\n",
    "    else:\n",
    "        box.set( color=c2, linewidth=1)\n",
    "    even = not even\n",
    "\n",
    "i = 0\n",
    "for w in bp['whiskers']:\n",
    "    if i == 0 or i == 1:\n",
    "        w.set( color=c1, linewidth=0.5, linestyle='-')\n",
    "    else:\n",
    "        w.set( color=c2, linewidth=0.5, linestyle='-')\n",
    "    i += 1\n",
    "    \n",
    "    if i == 4: \n",
    "        i = 0\n",
    "    \n",
    "even = True\n",
    "for m in bp['medians']:\n",
    "    if even:\n",
    "        m.set( color=c1, linewidth=1)\n",
    "    else:\n",
    "        m.set( color=c2, linewidth=1)\n",
    "    even = not even\n",
    "\n",
    "for c in bp['caps']:\n",
    "    c.set_visible( False )\n",
    "    \n",
    "even = True\n",
    "for flier in bp['fliers']:\n",
    "#     flier.set_visible( False )\n",
    "    if even:\n",
    "        flier.set(marker='.', markeredgecolor=c1, markerfacecolor=c1, markersize=1, alpha=0.2 )\n",
    "    else:\n",
    "        flier.set(marker='.', markeredgecolor=c2, markerfacecolor=c2, markersize=1, alpha=0.2 )\n",
    "    even = not even\n",
    "\n",
    "plt.legend( names )\n",
    "\n",
    "ax = plt.gca()\n",
    "ax.set_xticklabels( xlabels )\n",
    "a = plt.setp( ax.get_xticklabels(), rotation=45, fontsize=8 )\n",
    "\n",
    "fig = plt.gcf()\n",
    "a = fig.set_size_inches( 16, 5 )\n",
    "\n",
    "plt.savefig('/nrs/saalfeld/john/projects/flyChemStainAtlas/comparisons/all_data_byLabel.svg')"
   ]
  },
  {
   "cell_type": "code",
   "execution_count": 255,
   "metadata": {
    "collapsed": false
   },
   "outputs": [],
   "source": [
    "\n",
    "def color_boxplot_by_group( bp, groups, colors ):\n",
    "    for box,i in zip( bp['boxes'], np.arange(len( bp['boxes']))):\n",
    "        box.set( color=colors[groups[i]])\n",
    "    \n",
    "    for med,i in zip( bp['medians'], np.arange(len( bp['medians']))):\n",
    "#         med.set( color=colors[groups[i]])\n",
    "        med.set( color='k')\n",
    "        \n",
    "    # repeat because there are two whiskers for each box\n",
    "    for wskr,i in zip(  bp['whiskers'], np.repeat( np.array(groups), 2, axis = 0 ) ):\n",
    "        wskr.set( color=colors[groups[i]])\n"
   ]
  },
  {
   "cell_type": "code",
   "execution_count": 256,
   "metadata": {
    "collapsed": false
   },
   "outputs": [
    {
     "name": "stdout",
     "output_type": "stream",
     "text": [
      "6\n",
      "[1, 4, 10, 13, 19, 22]\n",
      "[1 1 1 1 1 1 1 1 1 1 1 1 1 1 1 1 1 1 1 1]\n"
     ]
    },
    {
     "data": {
      "image/png": "[encoded data removed]",
      "text/plain": [
       "<matplotlib.figure.Figure at 0x7f34d010f950>"
      ]
     },
     "metadata": {},
     "output_type": "display_data"
    }
   ],
   "source": [
    "\n",
    "some_data = all_data[0:6]\n",
    "some_xpositions = xpositions[0:6]\n",
    "print len( some_data )\n",
    "print some_xpositions \n",
    "\n",
    "groups = [0,1,0,1,0,1]\n",
    "colors = ['#226078','#910033']\n",
    "whisker_props = { 'linewidth' : 1.0, 'linestyle' : '-'}\n",
    "box_props = { 'linewidth' : 2.0 }\n",
    "med_props = { 'linewidth' : 2.0 }\n",
    "\n",
    "max_scatter_pts = 100\n",
    "scatter_radius = 0.5\n",
    "print np.repeat( some_xpositions[0], 20 )\n",
    "\n",
    "bp = plt.boxplot( some_data, positions=some_xpositions, whis=2, showcaps=False, showfliers=False,\n",
    "                boxprops=box_props, whiskerprops=whisker_props, medianprops=med_props )\n",
    "\n",
    "for i in range( len( some_data )):\n",
    "    if( len(some_data[ i ]) <= max_scatter_pts ):\n",
    "        sample = some_data[ i ]\n",
    "    else:\n",
    "        sample = some_data[ i ][ np.random.choice( len(some_data[i]), max_scatter_pts)]\n",
    "    \n",
    "    \n",
    "    x = np.repeat( (1 + some_xpositions[i]), len( sample ))\n",
    "    x = x + ( scatter_radius * np.random.rand( *x.shape ) - (scatter_radius / 2) )\n",
    "    plt.plot( x, sample, linestyle='None', marker='o', markersize=8, markeredgewidth=0,\n",
    "             markerfacecolor=colors[groups[i]], alpha=0.1 )\n",
    "    \n",
    "plt.gca().set_xlim([0,25])\n",
    "plt.gca().set_ylim([-0.5,12])\n",
    "\n",
    "color_boxplot_by_group( bp, groups, colors )\n",
    "\n",
    "fig = plt.gcf()\n",
    "_ = fig.set_size_inches( 12, 9 )\n",
    "\n",
    "plt.savefig('/groups/saalfeld/home/bogovicj/box-scatter-plot-style2.svg')"
   ]
  }
 ],
 "metadata": {
  "kernelspec": {
   "display_name": "Python 2",
   "language": "python",
   "name": "python2"
  },
  "language_info": {
   "codemirror_mode": {
    "name": "ipython",
    "version": 2
   },
   "file_extension": ".py",
   "mimetype": "text/x-python",
   "name": "python",
   "nbconvert_exporter": "python",
   "pygments_lexer": "ipython2",
   "version": "2.7.12"
  }
 },
 "nbformat": 4,
 "nbformat_minor": 0
}
