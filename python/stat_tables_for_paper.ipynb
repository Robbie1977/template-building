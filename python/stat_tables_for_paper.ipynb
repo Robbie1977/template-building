{
 "cells": [
  {
   "cell_type": "code",
   "execution_count": null,
   "metadata": {},
   "outputs": [],
   "source": [
    "import sys\n",
    "import glob\n",
    "import re\n",
    "import fnmatch\n",
    "import math\n",
    "import os\n",
    "from os import listdir\n",
    "from os.path import join, isfile, basename\n",
    "\n",
    "import itertools\n",
    "\n",
    "import numpy as np\n",
    "from numpy import float32, int32, uint8, dtype, genfromtxt\n",
    "\n",
    "import matplotlib\n",
    "%matplotlib inline\n",
    "import matplotlib.pyplot as plt\n",
    "\n",
    "import scipy\n",
    "from scipy.stats import ttest_ind\n",
    "\n",
    "import pandas as pd\n",
    "\n",
    "import colorsys\n",
    "\n",
    "import template_common as tc"
   ]
  },
  {
   "cell_type": "code",
   "execution_count": null,
   "metadata": {},
   "outputs": [],
   "source": [
    "from IPython.core.display import display, HTML\n",
    "display(HTML(\"<style>.container { width:90% !important; }</style>\"))"
   ]
  },
  {
   "cell_type": "code",
   "execution_count": null,
   "metadata": {},
   "outputs": [],
   "source": [
    "# base_dir='/nrs/saalfeld/john/projects/flyChemStainAtlas/all_evals/distanceStatsNorm'\n",
    "base_dir='/nrs/saalfeld/john/projects/flyChemStainAtlas/all_evals/distanceStatsWarpNorm'\n",
    "\n",
    "dest_dir = '/groups/saalfeld/home/bogovicj/pubDrafts/grpDrosTemplate/grpDrosTemplate/tables'\n",
    "fig_dir = '/groups/saalfeld/home/bogovicj/pubDrafts/grpDrosTemplate/grpDrosTemplate/figs'\n",
    "\n",
    "\n",
    "alg_list = ['antsRegDog', 'antsRegOwl', 'antsRegYang', 'cmtkCOG', 'cmtkCow', 'cmtkHideo']\n",
    "# template_list = [ 'JFRC2013_lo', 'JFRCtemplate2010', 'TeforBrain_f', 'F-antsFlip_lo', 'F-cmtkFlip_lof', 'FCWB']\n",
    "template_list = [ 'JFRC2013_lo', 'JFRCtemplate2010', 'TeforBrain_f', 'F-antsFlip_lo', 'FCWB']\n",
    "\n",
    "\n",
    "# alg_name_map = { 'antsRegDog': 'ANTs A', 'antsRegOwl' : 'ANTs B', 'antsRegYang' : 'ANTs C',\n",
    "#                 'cmtkCOG' : 'CMTK A',  'cmtkHideo' : 'CMTK B', 'cmtkCow' : 'CMTK C'}\n",
    "\n",
    "# template_name_map = { 'JFRC2013_lo':'JFRC2013', 'JFRCtemplate2010' : 'JFRC2010', \n",
    "#                      'TeforBrain_f' : 'Tefor', 'F-antsFlip_lo' : 'JRC2018', \n",
    "#                      'F-cmtkFlip_lof' : 'CMTK groupwise', 'FCWB':'FCWB' }"
   ]
  },
  {
   "cell_type": "code",
   "execution_count": null,
   "metadata": {},
   "outputs": [],
   "source": [
    "labels = [16,64,8,32,2,4,65,66,33,67,34,17,69,70,35,71,9,18,72,36,73,74,37,75,19,76,38,77,39,78,79,20,5,40,80,10,81,82,83,84,85,86,11,22,23,24,12,3,6,49,50,25,51,13,52,26,53,27,54,55,56,28,7,14,57,58,29,59,30,60,15,61,31,62,63]\n",
    "label_names_file = '/groups/saalfeld/home/bogovicj/vfb/DrosAdultBRAINdomains/refData/Original_Index.tsv'\n",
    "\n",
    "label_names = pd.read_csv( label_names_file, delimiter='\\t', header=0 )\n",
    "# print label_names[ label_names['Stack id'] == 11 ]['JFRCtempate2010.mask130819' ].iloc[0]\n",
    "# print label_names[ label_names['Stack id'] == 70 ]['JFRCtempate2010.mask130819' ].iloc[0]\n",
    "\n",
    "def get_label_name( label_id ):\n",
    "    return label_names[ label_names['Stack id'] == label_id ]['JFRCtempate2010.mask130819' ].iloc[0]\n",
    "\n",
    "def clean_cols( df ):\n",
    "    ## clean up the weird columns\n",
    "    df.columns = [ c[0] if c[1].startswith('Unnamed') else c[1] for c in df.columns.values ]\n",
    "    \n",
    "def flatten_heir_cols( df ):\n",
    "    ## flatten heirarchical columns\n",
    "    df.columns = [ '_'.join(c) for c in df.columns.values ]"
   ]
  },
  {
   "cell_type": "code",
   "execution_count": null,
   "metadata": {
    "scrolled": true
   },
   "outputs": [],
   "source": [
    "# Load everything\n",
    "# os.listdir( base_dir )\n",
    "\n",
    "df = None\n",
    "# for tmp in template_list:\n",
    "for f in glob.glob( ''.join([base_dir,'/*.csv']) ):\n",
    "#     f = glob.glob( ''.join([base_dir,'/',tmp,'.csv']) )\n",
    "    print( f )\n",
    "    this_df = pd.read_csv( f, header=[0,1], index_col=0 )\n",
    "    if df is None:\n",
    "        df = this_df\n",
    "    else:\n",
    "        df = df.append( this_df )\n",
    "\n",
    "clean_cols( df )\n",
    "df['std'] = df.apply( lambda x: math.sqrt(x['var']), axis=1)\n",
    "df['gam_std'] = df.apply( lambda x: math.sqrt(x['gam_var']), axis=1)\n",
    "df['ray_std'] = df.apply( lambda x: math.sqrt(x['ray_var']), axis=1)\n",
    "df.reset_index( drop=True )"
   ]
  },
  {
   "cell_type": "code",
   "execution_count": null,
   "metadata": {},
   "outputs": [],
   "source": [
    "# with open( '/'.join([dest_dir, 'total_stat_table_raw.tex' ]), 'w') as f:\n",
    "#     f.write( df.to_latex())"
   ]
  },
  {
   "cell_type": "code",
   "execution_count": null,
   "metadata": {
    "scrolled": true
   },
   "outputs": [],
   "source": [
    "# df_mn_grp = df.loc[ df.LABEL == -1, mean_cols ].groupby(['TEMPLATE','ALG'],as_index=True)\n",
    "\n",
    "# keep_cols = ['TEMPLATE','ALG','mean','ray_mean','gam_mean', 'std', 'var', 'ray_var', 'gam_var']\n",
    "keep_cols = ['TEMPLATE','ALG','mean','ray_mean','gam_mean', 'std', 'ray_std', 'gam_std', 'gam_mode','median']\n",
    "\n",
    "\n",
    "# print( df_mn_grp )\n",
    "df_label = df.loc[ df.LABEL == -1, keep_cols ]\n",
    "# print( df_mn_grp.to_latex())\n",
    "\n",
    "df_label['ray_mn_diff'] = df_label.apply( lambda x: x['mean'] - x['ray_mean'], axis=1)\n",
    "df_label['gam_mn_diff'] = df_label.apply( lambda x: x['mean'] - x['gam_mean'], axis=1)\n",
    "# df_label['ray_var_diff'] = df_label.apply( lambda x: x['var'] - x['ray_var'], axis=1)\n",
    "# df_label['gam_var_diff'] = df_label.apply( lambda x: x['var'] - x['gam_var'], axis=1)\n",
    "df_label['ray_std_diff'] = df_label.apply( lambda x: x['std'] - x['ray_std'], axis=1)\n",
    "df_label['gam_std_diff'] = df_label.apply( lambda x: x['std'] - x['gam_std'], axis=1)\n",
    "df_label"
   ]
  },
  {
   "cell_type": "code",
   "execution_count": null,
   "metadata": {
    "scrolled": true
   },
   "outputs": [],
   "source": [
    "# with open( '/'.join([dest_dir, 'stat_table_raw.tex' ]), 'w') as f:\n",
    "#     f.write( df.to_latex())\n",
    "\n",
    "# df_label.loc[df_label.ALG != 'ALL',['TEMPLATE','ALG','mean','std','median','gam_mode']].sort_values( by=['mean'] )\n",
    "df_label_sorted = df_label.loc[df_label.ALG != 'ALL',['TEMPLATE','ALG','mean','std','median']].sort_values( by=['mean'] )\n",
    "\n",
    "# with open( '/'.join([dest_dir, 'stat_table_affineNorm_raw_20180524.tex' ]), 'w') as f:\n",
    "#     f.write( df_label_sorted.to_latex())\n",
    "\n",
    "df_label_sorted"
   ]
  },
  {
   "cell_type": "code",
   "execution_count": null,
   "metadata": {},
   "outputs": [],
   "source": [
    "df_label[df_label.ALG == 'ALL']"
   ]
  },
  {
   "cell_type": "code",
   "execution_count": null,
   "metadata": {},
   "outputs": [],
   "source": [
    "# Table with the best algorithm ( by empirical mean )\n",
    "\n",
    "## Hard to show which algorithm is the best this way\n",
    "# best_alg = df_label.groupby(['TEMPLATE']).aggregate( {'mean' : 'min' })\n",
    "# best_alg\n",
    "\n",
    "df_mean_bestAlg = None\n",
    "for template in df_label.TEMPLATE.unique():\n",
    "    minval = np.min( df_label.loc[ df_label.TEMPLATE == template, 'mean'])\n",
    "    df_t = df_label.loc[ (df_label.TEMPLATE == template) & (df_label.loc[:,'mean'] == minval ), :]\n",
    "    \n",
    "    if df_mean_bestAlg is None:\n",
    "        df_mean_bestAlg = df_t\n",
    "    else:\n",
    "        df_mean_bestAlg = df_mean_bestAlg.append( df_t )\n",
    "        \n",
    "df_mean_bestAlg"
   ]
  },
  {
   "cell_type": "code",
   "execution_count": null,
   "metadata": {},
   "outputs": [],
   "source": [
    "# merge relevant tables and write to tex\n",
    "\n",
    "dest_file = 'gamMnStd_affineNorm_byTemplate_raw_20180524.tex'\n",
    "mean_col_name = 'gam_mean'\n",
    "std_col_name = 'gam_std'\n",
    "cols = ['TEMPLATE', mean_col_name, std_col_name]\n",
    "\n",
    "# stick with two decimals places\n",
    "pd.options.display.float_format = '{:,.2f}'.format\n",
    "\n",
    "allk = df_label.loc[ df_label.ALG == 'ALL', cols].set_index('TEMPLATE')\n",
    "bestk = df_mean_bestAlg.loc[ :, cols].set_index('TEMPLATE')\n",
    "dog = df_label.loc[ df_label.ALG == 'antsRegDog', cols ].set_index('TEMPLATE')\n",
    "cog = df_label.loc[ df_label.ALG == 'cmtkCOG', cols ].set_index('TEMPLATE')\n",
    "\n",
    "# print( allk )\n",
    "    \n",
    "tbl_mean = allk.join( bestk, lsuffix='_All', rsuffix='_Best' )\n",
    "tbl_mean = tbl_mean.join( dog ) # suffixes do nothing because no overlapping columns\n",
    "tbl_mean = tbl_mean.join( cog, lsuffix='_antsRegDog', rsuffix='_cmtkCOG')\n",
    "\n",
    "# Merge mean and std columns into a string column with std in parens\n",
    "def mnStd2String( x ):\n",
    "    return '{:0.2f} ({:0.2f})'.format( x['_'.join([mean_col_name ,s])], x['_'.join([std_col_name,s])])\n",
    "\n",
    "# Make a new table\n",
    "tbl_mean_format = pd.DataFrame() # Formatted version of the table\n",
    "suffixlist = ['All', 'Best', 'antsRegDog', 'cmtkCOG']\n",
    "for s in suffixlist:\n",
    "    tbl_mean_format[s] = tbl_mean.apply( mnStd2String, axis=1)\n",
    "\n",
    "# with open( '/'.join([dest_dir, dest_file ]), 'w') as f:\n",
    "#     f.write( tbl_mean_format.to_latex())\n",
    "\n"
   ]
  },
  {
   "cell_type": "code",
   "execution_count": null,
   "metadata": {},
   "outputs": [],
   "source": [
    "tbl_mean_format"
   ]
  },
  {
   "cell_type": "code",
   "execution_count": null,
   "metadata": {},
   "outputs": [],
   "source": [
    "## Plot the gamma fits\n",
    "\n",
    "def parse_gam_param_string( gam_param_string ):\n",
    "    return [ float(p) for p in gam_param_string.replace('(','').replace(')','').split(',') ]\n",
    "\n",
    "gam_param_col = 'gam_params_fl'\n",
    "x = np.linspace( 0, 25, 100 )\n",
    "\n",
    "for template in template_list:\n",
    "    print( template )\n",
    "    \n",
    "    gam_params_string = df.loc[ (df.TEMPLATE == template) & (df.ALG == 'antsRegDog') & (df.LABEL == -1), gam_param_col ][0]\n",
    "    gam_params = parse_gam_param_string( gam_params_string )\n",
    "    gam_fitted = scipy.stats.gamma.pdf( x, gam_params[0], loc=gam_params[1], scale=gam_params[2])\n",
    "    \n",
    "    plt.plot( gam_fitted, label=template )\n",
    "\n",
    "\n",
    "fig = plt.gcf()\n",
    "fig.set_size_inches(18.5, 10.5)\n",
    "plt.legend()\n",
    "plt.rc('font', size=25 )\n",
    "# plt.savefig( '/'.join([fig_dir,'gamDist_antsRegDog_byTemplate.svg']))\n",
    "# plt.savefig( '/'.join([fig_dir,'gamDist_antsRegDog_byTemplate.pdf']))"
   ]
  },
  {
   "cell_type": "code",
   "execution_count": null,
   "metadata": {},
   "outputs": [],
   "source": [
    "# jacstats_f = '/nrs/saalfeld/john/projects/flyChemStainAtlas/all_evals/jacobianStats/jacobian_stats_wSubs.csv'\n",
    "jacstats_f = '/nrs/saalfeld/john/projects/flyChemStainAtlas/all_evals/jacobianStats/jacobian_stats_wSubs.csv'\n",
    "jac_df = pd.read_csv( jacstats_f )"
   ]
  },
  {
   "cell_type": "code",
   "execution_count": null,
   "metadata": {},
   "outputs": [],
   "source": [
    "# print( jac_df.head())\n",
    "# print( ' ')\n",
    "# print( jac_df.tail())"
   ]
  },
  {
   "cell_type": "code",
   "execution_count": null,
   "metadata": {},
   "outputs": [],
   "source": [
    "# jacstd_all_df = jac_df[ jac_df.LABEL == -1 ].groupby( ['ALG','TEMPLATE'])#.pivot( columns='STAT', values='VALUE')\n",
    "# jacstd_all_df = jac_df.loc[ jac_df.LABEL == -1, ['TEMPLATE','ALG','STAT','VALUE']]\n",
    "jacstd_all_df = jac_df.loc[ (jac_df.LABEL == -1) & (jac_df.STAT=='STDDEV'), ['TEMPLATE','ALG','VALUE']]\n",
    "\n",
    "jacstd_all_df.columns = ['TEMPLATE','ALG','JACSTD']\n",
    "# jacstd_all_df['VAR'] = jacstd_all_df.apply( lambda x: x['JACSTD']*x['JACSTD'])\n",
    "jacstd_all_df.head()"
   ]
  },
  {
   "cell_type": "code",
   "execution_count": null,
   "metadata": {},
   "outputs": [],
   "source": [
    "# Assumes the counts (weights for each mean are identical )\n",
    "def pooledMeanAndVariance( means, variances, counts=None ):\n",
    "    grand_mean = np.mean( means )\n",
    "    if counts is not None:\n",
    "        top = counts * (np.array( variances) + means)\n",
    "        return  ( np.sum(top)/ np.sum(counts)) - grand_mean\n",
    "    else:\n",
    "        top = ( np.array(variances) + means )\n",
    "        return  (np.sum(top) / len(means)) - grand_mean\n",
    "\n",
    "means =  [ 1.0, 6.0, 2.0 ]\n",
    "variances =  [ 2.0, 12.0, 4.0 ]\n",
    "counts = [ 10, 10, 10 ]\n",
    "\n",
    "print( pooledMeanAndVariance( means,variances ))\n",
    "print( pooledMeanAndVariance( means, variances, counts ))\n",
    "\n",
    "def addTAcol( df ):\n",
    "    df['TA'] = df.apply( lambda x: '{}:{}'.format( x['TEMPLATE'], x['ALG']), axis=1 )\n"
   ]
  },
  {
   "cell_type": "code",
   "execution_count": null,
   "metadata": {},
   "outputs": [],
   "source": [
    "# tmp =  jac_df.loc[ (jac_df.TEMPLATE == 'FCWB') & (jac_df.ALG == 'antsRegDog')]\n",
    "# tmp_l = tmp.loc[ tmp.LABEL == 49 ]\n",
    "# tmp_l\n",
    "\n",
    "tmp =  jacstd_all_df.loc[ (jacstd_all_df.TEMPLATE == 'FCWB') & (jacstd_all_df.ALG == 'antsRegDog')]\n",
    "# tmp_l = tmp.loc[ tmp.LABEL == 49 ]\n",
    "tmp\n"
   ]
  },
  {
   "cell_type": "code",
   "execution_count": null,
   "metadata": {},
   "outputs": [],
   "source": [
    "labels_w_all = labels\n",
    "labels_w_all += [-1]\n",
    "\n",
    "# jacstd_all_df.groupby(['TEMPLATE']).mean()\n",
    "jac_df_all = jac_df.loc[ (jac_df.LABEL == -1)]\n",
    "\n",
    "# print( len(jac_df_all) )\n",
    "# print( ' ' )\n",
    "\n",
    "# jac_df_all.sample(10)\n",
    "\n",
    "t_list = [] # templates\n",
    "a_list = [] # alg\n",
    "l_list = [] # labels\n",
    "m_list = [] # means\n",
    "s_list = [] # stddev\n",
    "\n",
    "# template_list= ['FCWB']\n",
    "for t in template_list:\n",
    "    for a in alg_list:\n",
    "#         print('alg ', a )\n",
    "        this_template =  jac_df.loc[ (jac_df.TEMPLATE == t) & (jac_df.ALG == a)]\n",
    "        \n",
    "        for label in labels_w_all:\n",
    "#             print( 'label', label )\n",
    "            \n",
    "            if( label == -1 ):\n",
    "                dat = this_template\n",
    "            else:\n",
    "                dat = this_template.loc[ this_template.LABEL == label ]\n",
    "\n",
    "#             c = this_template.loc[ this_template.STAT =='COUNT']\n",
    "            m = dat.loc[ dat.STAT =='MEAN']\n",
    "            s = dat.loc[ dat.STAT =='STDDEV']\n",
    "\n",
    "            if( len(m) == 0 ):\n",
    "                t_list += [t]\n",
    "                a_list += [a]\n",
    "                l_list += [label]\n",
    "                m_list += [ float('nan') ]\n",
    "                s_list += [ float('nan') ]\n",
    "                continue\n",
    "                \n",
    "            pooledVar = pooledMeanAndVariance( m.VALUE, s.VALUE * s.VALUE )\n",
    "#             print( 'pv ', pooledVar )\n",
    "            pooledStd = math.sqrt(pooledVar)\n",
    "            \n",
    "            t_list += [t]\n",
    "            a_list += [a]\n",
    "            l_list += [label]\n",
    "            m_list += [ np.mean( m.VALUE )]\n",
    "            s_list += [ pooledStd ]\n",
    "            \n",
    "\n",
    "summary_df = pd.DataFrame( {\n",
    "    'TEMPLATE':t_list,\n",
    "    'ALG':a_list,\n",
    "    'LABEL':l_list,\n",
    "    'MEAN':m_list,\n",
    "    'STDDEV':s_list })\n",
    "\n",
    "summary_df.head()"
   ]
  },
  {
   "cell_type": "code",
   "execution_count": null,
   "metadata": {},
   "outputs": [],
   "source": [
    "summary_df_labels = summary_df.loc[ summary_df.LABEL == -1 ]\n",
    "\n",
    "addTAcol( df_label )\n",
    "addTAcol( summary_df_labels )\n",
    "\n",
    "summary_df_labels.columns = ['ALG', 'LABEL', 'JACMEAN', 'JACSTDDEV', 'TEMPLATE', 'TA']\n",
    "\n",
    "summary_df_labels.head()"
   ]
  },
  {
   "cell_type": "code",
   "execution_count": null,
   "metadata": {},
   "outputs": [],
   "source": [
    "# print( len(df_label[df_label.ALG != 'ALL']) )\n",
    "# print( len(summary_df_labels) )\n",
    "\n",
    "# print( df_label)\n",
    "# print( ' ' )\n",
    "# print( summary_df_labels)\n",
    "\n",
    "\n",
    "df_dist_jac = summary_df_labels.set_index('TA').join( df_label.set_index('TA'), lsuffix='_jac' )"
   ]
  },
  {
   "cell_type": "code",
   "execution_count": null,
   "metadata": {},
   "outputs": [],
   "source": [
    "# summary_df_labels[ summary_df_labels.ALG == 'antsRegDog']\n",
    "pd.options.display.float_format = '{:,.4f}'.format\n",
    "jac_ants_tbl = summary_df_labels[ summary_df_labels.ALG == 'antsRegDog'].pivot(columns='TEMPLATE', values='JACSTDDEV')\n",
    "jac_ants_tbl"
   ]
  },
  {
   "cell_type": "code",
   "execution_count": null,
   "metadata": {},
   "outputs": [],
   "source": [
    "jac_summary_writeme = summary_df_labels[['TEMPLATE','ALG','JACMEAN','JACSTDDEV']]\n",
    "# summary_df_labels[['ALG','TEMPLATE','JACMEAN','JACSTDDEV']].groupby(('TEMPLATE','ALG'),as_index=False)\n",
    "\n",
    "# with open( '/'.join([dest_dir, 'supp_jacMnStd_raw.tex' ]), 'w') as f:\n",
    "#     f.write( jac_summary_writeme.to_latex() )\n",
    "\n"
   ]
  },
  {
   "cell_type": "code",
   "execution_count": null,
   "metadata": {},
   "outputs": [],
   "source": [
    "pd.options.display.float_format = '{:,.2f}'.format\n",
    "# print( template_list )\n",
    "\n",
    "# template_indices = [ template_list.index(t) for t in df_dist_jac.loc[:,'TEMPLATE'] ]\n",
    "# template_indices\n",
    "\n",
    "template_color_map = { 'JFRC2010':'firebrick',\n",
    "                       'JFRC2013':'navy',\n",
    "                       'FCWB':'darkgreen',\n",
    "                       'Tefor':'darkorchid',\n",
    "                       'JRC2018':'black',\n",
    "#                        'CMTK groupwise':'gray'\n",
    "                       'CMTK groupwise':'darkorange'\n",
    "                     }\n"
   ]
  },
  {
   "cell_type": "code",
   "execution_count": null,
   "metadata": {},
   "outputs": [],
   "source": [
    "\n",
    "marker_map = { 'antsRegDog':'o', 'antsRegOwl':'v', 'antsRegYang':'s',\n",
    "              'cmtkCOG':'+', 'cmtkCow':'d', 'cmtkHideo':'x' }\n",
    "marker_map\n",
    "marker_map['cmtkCOG']\n",
    "# alg_list\n",
    "\n",
    "for a in alg_list:\n",
    "    df_alg_subset =  df_dist_jac.loc[df_dist_jac.ALG == a,:]\n",
    "    \n",
    "#     colors=[ template_list.index(t) for t in df_alg_subset.loc[:,'TEMPLATE'] ]\n",
    "    colors=[ template_color_map[tc.template_name(t)] for t in df_alg_subset.loc[:,'TEMPLATE'] ]\n",
    "\n",
    "#     plt.scatter( df_alg_subset.loc[:,'JACSTDDEV'], \n",
    "#                  df_alg_subset.loc[:,'mean'], c=colors, marker=marker_map[a] )\n",
    "\n",
    "    plt.scatter( df_alg_subset.loc[:,'JACSTDDEV'], \n",
    "                 df_alg_subset.loc[:,'mean'], c=colors, marker='o' )\n",
    "    \n",
    "plt.xlabel('Jacobian determinant standard deviation', size=18)\n",
    "plt.ylabel('Mean distance (um)', size=18)\n",
    "plt.xticks(fontsize=16)\n",
    "plt.yticks(fontsize=16)\n",
    "\n",
    "ax = plt.gca()\n",
    "for i,row in df_dist_jac.iterrows():\n",
    "    t=(row['TEMPLATE']).lstrip(' ')\n",
    "    s = \"   \" + tc.template_name(t) + \" : \" + tc.alg_name(row['ALG'].lstrip(' '))\n",
    "    ax.annotate( s, (row['JACSTDDEV'], row['mean'] ), size=13, color=template_color_map[tc.template_name(t)] )\n",
    "\n",
    "plt.grid( which='major', linestyle=':', dashes=(3,3))\n",
    "\n",
    "fig = plt.gcf()\n",
    "a = fig.set_size_inches( 16, 10 )\n",
    "\n",
    "# plt.savefig( '/groups/saalfeld/home/bogovicj/pubDrafts/grpDrosTemplate/grpDrosTemplate/figs/distAffineNorm_vs_jacstd_colors_20180531.svg')\n",
    "# plt.savefig( '/groups/saalfeld/home/bogovicj/pubDrafts/grpDrosTemplate/grpDrosTemplate/figs/distWarpNorm_vs_jacstd_colors_20180531.svg')"
   ]
  }
 ],
 "metadata": {
  "kernelspec": {
   "display_name": "Python [conda env:py36]",
   "language": "python",
   "name": "conda-env-py36-py"
  },
  "language_info": {
   "codemirror_mode": {
    "name": "ipython",
    "version": 3
   },
   "file_extension": ".py",
   "mimetype": "text/x-python",
   "name": "python",
   "nbconvert_exporter": "python",
   "pygments_lexer": "ipython3",
   "version": "3.6.3"
  }
 },
 "nbformat": 4,
 "nbformat_minor": 2
}
