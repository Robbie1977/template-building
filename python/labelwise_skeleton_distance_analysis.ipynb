{
 "cells": [
  {
   "cell_type": "code",
   "execution_count": 3,
   "metadata": {
    "collapsed": true
   },
   "outputs": [],
   "source": [
    "import sys\n",
    "import glob\n",
    "import re\n",
    "import fnmatch\n",
    "from os import listdir\n",
    "from os.path import join, isfile, basename\n",
    "\n",
    "import itertools\n",
    "\n",
    "import numpy as np\n",
    "from numpy import float32, int32, uint8, dtype, genfromtxt\n",
    "\n",
    "import pandas as pd\n",
    "\n",
    "import matplotlib\n",
    "%matplotlib inline\n",
    "import matplotlib.pyplot as plt"
   ]
  },
  {
   "cell_type": "code",
   "execution_count": 4,
   "metadata": {
    "collapsed": true
   },
   "outputs": [],
   "source": [
    "# VFB labels and label names\n",
    "labels = [16,64,8,32,2,4,65,66,33,67,34,17,69,70,35,71,9,18,72,36,73,74,37,75,19,76,38,77,39,78,79,20,5,40,80,10,81,82,83,84,85,86,11,22,23,24,12,3,6,49,50,25,51,13,52,26,53,27,54,55,56,28,7,14,57,58,29,59,30,60,15,61,31,62,63]\n",
    "label_names_file = '/groups/saalfeld/home/bogovicj/vfb/DrosAdultBRAINdomains/refData/Original_Index.tsv'\n",
    "\n",
    "label_names = pd.read_csv( label_names_file, delimiter='\\t', header=0 )\n",
    "# print label_names[ label_names['Stack id'] == 11 ]['JFRCtempate2010.mask130819' ].iloc[0]\n",
    "# print label_names[ label_names['Stack id'] == 70 ]['JFRCtempate2010.mask130819' ].iloc[0]\n",
    "\n",
    "def get_label_name( label_id ):\n",
    "    return label_names[ label_names['Stack id'] == label_id ]['JFRCtempate2010.mask130819' ].iloc[0]\n",
    "\n",
    "# label_names['JFRCtempate2010.mask130819']\n",
    "\n",
    "label_shorthand_col ='JFRCtempate2010.mask130819'\n",
    "label_id_col ='Stack id'\n",
    "\n",
    "\n",
    "# Find left-right matching labels\n",
    "rnames = label_names[ label_names.apply( lambda x : x[label_shorthand_col].endswith('_R'), axis=1 )]\n",
    "\n",
    "lr_pair_list = []\n",
    "for rn in rnames.loc[:,label_shorthand_col]:\n",
    "    ln = rn.replace('_R','_L')\n",
    "    id_R = label_names[ label_names[label_shorthand_col]==rn ].loc[:,label_id_col]\n",
    "    id_L = label_names[ label_names[label_shorthand_col]==ln ].loc[:,label_id_col]\n",
    "    lr_pair_list += [[id_R.values[0], id_L.values[0]]]\n",
    "lr_pair_list = np.array( lr_pair_list )"
   ]
  },
  {
   "cell_type": "code",
   "execution_count": 5,
   "metadata": {
    "collapsed": false
   },
   "outputs": [],
   "source": [
    "path='/nrs/saalfeld/john/projects/flyChemStainAtlas/all_evals/F-antsFlip/cmtkCow/evalComp/stats0.txt'\n",
    "\n",
    "def readlines( f ):\n",
    "    f = open( f, 'r' )\n",
    "    lines = f.readlines()\n",
    "    f.close()\n",
    "    return lines\n",
    "\n",
    "def labelstat( lines, label, stat='MEDIAN'):\n",
    "    statupper = stat.upper()\n",
    "    for l in lines:\n",
    "        if l.startswith(str(label)):\n",
    "            if l.find(statupper) >= 0:\n",
    "                return float( l.split()[2] )\n"
   ]
  },
  {
   "cell_type": "code",
   "execution_count": 6,
   "metadata": {
    "collapsed": false
   },
   "outputs": [],
   "source": [
    "base_dir = '/nrs/saalfeld/john/projects/flyChemStainAtlas/all_evals'\n",
    "\n",
    "# templates = ['JFRCtemplate2010']\n",
    "# reg_methods = [ 'cmtkCow', 'cmtkCOG', 'antsRegYang' ]\n",
    "\n",
    "templates = ['F-antsFlip']\n",
    "reg_methods = [ 'cmtkCow', 'cmtkCOG' ]\n"
   ]
  },
  {
   "cell_type": "code",
   "execution_count": 47,
   "metadata": {
    "collapsed": false
   },
   "outputs": [],
   "source": [
    "# parse all data into a data frame\n",
    "\n",
    "expnamelist=[]\n",
    "statlist=[]\n",
    "datalist=[]\n",
    "labellist=[]\n",
    "linelist=[]\n",
    "\n",
    "for template,reg in itertools.product( templates, reg_methods ):\n",
    "\n",
    "    exp_dir = join( base_dir, template, reg )\n",
    "#     print exp_dir\n",
    "    expname = readlines( join(exp_dir,'name'))[0]\n",
    "#     print expname \n",
    "\n",
    "    for line in [0,1,2,3]:\n",
    "        eval_dir=join(exp_dir,'evalComp')\n",
    "        \n",
    "        # Read label stats\n",
    "        statFile = '{}/stats{}.txt'.format(eval_dir,line)\n",
    "        stat_lines = readlines( statFile )\n",
    "        for sl in stat_lines:\n",
    "            dat = sl.split()\n",
    "            expnamelist += [ expname.replace('\\n','') ]\n",
    "            linelist += [ line ]\n",
    "            labellist += [ int(dat[0]) ]\n",
    "            statlist += [ dat[1] ]\n",
    "            datalist += [ float(dat[2]) ]\n",
    "            \n",
    "        # Read total brain mask stats\n",
    "        allStatFile = '{}/all_stats{}.txt'.format(eval_dir,line)\n",
    "        all_stat_lines = readlines( allStatFile )\n",
    "        for sl in all_stat_lines:\n",
    "            if( sl.startswith('all ')):\n",
    "                dat = sl.split()\n",
    "                expnamelist += [ expname.replace('\\n','') ]\n",
    "                linelist += [ line ]\n",
    "                labellist += [ -1 ] # -1 indicates total mask label\n",
    "                statlist += [ dat[1] ]\n",
    "                datalist += [ float(dat[2]) ]\n",
    "\n",
    "\n",
    "dist_df = pd.DataFrame( {'EXP':expnamelist, \n",
    "                         'STAT':statlist,\n",
    "                         'LINE':linelist,\n",
    "                         'LABEL':labellist,\n",
    "                         'VALUE':datalist })\n",
    "\n"
   ]
  },
  {
   "cell_type": "code",
   "execution_count": 52,
   "metadata": {
    "collapsed": false
   },
   "outputs": [],
   "source": [
    "# print dist_df\n",
    "# print dist_df[ ((dist_df.STAT == 'MEDIAN') | (dist_df.STAT == 'COUNT')) & (dist_df.LABEL == 2) & (dist_df.LINE == 0) ]\n",
    "# print ' '\n",
    "# print dist_df[ ((dist_df.STAT == 'MEDIAN') | (dist_df.STAT == 'COUNT')) & (dist_df.LABEL == -1) & (dist_df.LINE == 0) ]"
   ]
  },
  {
   "cell_type": "code",
   "execution_count": 51,
   "metadata": {
    "collapsed": false
   },
   "outputs": [],
   "source": [
    "# Sort labels by average size\n",
    "\n",
    "avg_counts = []\n",
    "\n",
    "gb_line_label = dist_df[ (dist_df.STAT == 'COUNT') ].groupby(['LINE','LABEL'])\n",
    "line_label_avgs = gb_line_label.mean().sort_values('VALUE', ascending=False)\n",
    "\n",
    "\n"
   ]
  }
 ],
 "metadata": {
  "kernelspec": {
   "display_name": "Python 2",
   "language": "python",
   "name": "python2"
  },
  "language_info": {
   "codemirror_mode": {
    "name": "ipython",
    "version": 2
   },
   "file_extension": ".py",
   "mimetype": "text/x-python",
   "name": "python",
   "nbconvert_exporter": "python",
   "pygments_lexer": "ipython2",
   "version": "2.7.12"
  }
 },
 "nbformat": 4,
 "nbformat_minor": 0
}
