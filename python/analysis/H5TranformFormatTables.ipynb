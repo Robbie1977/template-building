{
 "cells": [
  {
   "cell_type": "markdown",
   "metadata": {},
   "source": [
    "Tables and results describing h5 transform files"
   ]
  },
  {
   "cell_type": "code",
   "execution_count": 67,
   "metadata": {},
   "outputs": [
    {
     "data": {
      "text/html": [
       "<style>.container { width:90% !important; }</style>"
      ],
      "text/plain": [
       "<IPython.core.display.HTML object>"
      ]
     },
     "metadata": {},
     "output_type": "display_data"
    }
   ],
   "source": [
    "import datetime\n",
    "\n",
    "import numpy as np\n",
    "import pandas as pd\n",
    "\n",
    "import matplotlib.pyplot as plt\n",
    "%matplotlib inline\n",
    "\n",
    "from IPython.core.display import display, HTML\n",
    "display(HTML(\"<style>.container { width:90% !important; }</style>\"))"
   ]
  },
  {
   "cell_type": "code",
   "execution_count": 11,
   "metadata": {},
   "outputs": [],
   "source": [
    "bridge_list = ['JRC2018F_FAFB', 'JRC2018F_FCWB', 'JRC2018F_JFRC2010', 'JRC2018F_JFRC2013', 'JRC2018F_TEFOR']"
   ]
  },
  {
   "cell_type": "code",
   "execution_count": 37,
   "metadata": {},
   "outputs": [
    {
     "data": {
      "text/html": [
       "<div>\n",
       "<style scoped>\n",
       "    .dataframe tbody tr th:only-of-type {\n",
       "        vertical-align: middle;\n",
       "    }\n",
       "\n",
       "    .dataframe tbody tr th {\n",
       "        vertical-align: top;\n",
       "    }\n",
       "\n",
       "    .dataframe thead th {\n",
       "        text-align: right;\n",
       "    }\n",
       "</style>\n",
       "<table border=\"1\" class=\"dataframe\">\n",
       "  <thead>\n",
       "    <tr style=\"text-align: right;\">\n",
       "      <th></th>\n",
       "      <th>file</th>\n",
       "      <th>size(bytes)</th>\n",
       "    </tr>\n",
       "  </thead>\n",
       "  <tbody>\n",
       "    <tr>\n",
       "      <th>0</th>\n",
       "      <td>JRC2018F_FAFB.h5</td>\n",
       "      <td>580398481</td>\n",
       "    </tr>\n",
       "    <tr>\n",
       "      <th>1</th>\n",
       "      <td>JRC2018F_FCWB.h5</td>\n",
       "      <td>1291412644</td>\n",
       "    </tr>\n",
       "    <tr>\n",
       "      <th>2</th>\n",
       "      <td>JRC2018F_JFRC2010.h5</td>\n",
       "      <td>1648355301</td>\n",
       "    </tr>\n",
       "    <tr>\n",
       "      <th>3</th>\n",
       "      <td>JRC2018F_JFRC2013.h5</td>\n",
       "      <td>1394903421</td>\n",
       "    </tr>\n",
       "    <tr>\n",
       "      <th>4</th>\n",
       "      <td>JRC2018F_TEFOR.h5</td>\n",
       "      <td>1623178929</td>\n",
       "    </tr>\n",
       "  </tbody>\n",
       "</table>\n",
       "</div>"
      ],
      "text/plain": [
       "                   file  size(bytes)\n",
       "0      JRC2018F_FAFB.h5    580398481\n",
       "1      JRC2018F_FCWB.h5   1291412644\n",
       "2  JRC2018F_JFRC2010.h5   1648355301\n",
       "3  JRC2018F_JFRC2013.h5   1394903421\n",
       "4     JRC2018F_TEFOR.h5   1623178929"
      ]
     },
     "execution_count": 37,
     "metadata": {},
     "output_type": "execute_result"
    }
   ],
   "source": [
    "sizes_data_f=\"/groups/saalfeld/home/bogovicj/dev/template/template-building-pub/scripts/h5Analysis/h5Sizes.csv\"\n",
    "sizes_h5 = pd.read_csv( sizes_data_f )\n",
    "sizes_h5"
   ]
  },
  {
   "cell_type": "markdown",
   "metadata": {},
   "source": [
    "Here I'll tabulate sizes of various transformations out of ants\n",
    "These came from the transforms here:\n",
    "\n",
    "`/groups/saalfeld/public/jrc2018/transformations`\n",
    "\n",
    "Specifically, these subfolders / files:\n",
    "* `JRC2018F_FAFB/*Warp.nii*`\n",
    "* `jrc2018F-FCWB/*Warp.nii*`\n",
    "* `jrc2018F-jfrc2010/*Warp.nii*`\n",
    "* `jrc2018F-jfrc2013/*Warp.nii*`\n",
    "* `JRC2018F_TEFOR/*Warp.nii*`\n"
   ]
  },
  {
   "cell_type": "code",
   "execution_count": 53,
   "metadata": {},
   "outputs": [],
   "source": [
    "ants_transform_sizes = [\n",
    "    ('JRC2018F_FAFB_Warp.nii',2833742131),\n",
    "    ('JRC2018F_FAFB_InverseWarp.nii',2832463797),\n",
    "    ('JRC2018F_FCWB_Warp.nii',7893413462),\n",
    "    ('JRC2018F_FCWB_InverseWarp.nii',7897010532),\n",
    "    ('JRC2018F_JFRC2010_Warp.nii',8133116764),\n",
    "    ('JRC2018F_JFRC2010_InverseWarp.nii',8143715252),\n",
    "    ('JRC2018F_JFRC2013_Warp.nii',8002888343),\n",
    "    ('JRC2018F_JFRC2013_InverseWarp.nii',8003178281),\n",
    "    ('JRC2018F_TEFOR_Warp.nii',8127594570),\n",
    "    ('JRC2018F_TEFOR_InverseWarp.nii',8136532225),\n",
    "]\n",
    "ants_df_raw = pd.DataFrame( ants_transform_sizes )\n",
    "ants_df_raw.columns = [ 'file', 'size(bytes)']"
   ]
  },
  {
   "cell_type": "code",
   "execution_count": 52,
   "metadata": {},
   "outputs": [],
   "source": [
    "def bridge_index( x, bridge_list ):\n",
    "    for i, b in enumerate( bridge_list ):\n",
    "        if x.startswith( b ):\n",
    "            return i\n",
    "\n",
    "ants_df_raw['bridge_idx'] = ants_df_raw.apply( lambda x: (bridge_index(x['file'], bridge_list )), axis=1)"
   ]
  },
  {
   "cell_type": "code",
   "execution_count": 50,
   "metadata": {},
   "outputs": [],
   "source": [
    "# Build a dataframe containing the combined size of the compressed inverse and forward fields\n",
    "ants_df_data = []\n",
    "for i in range( len(bridge_list)):\n",
    "    ants_df_data += [ (bridge_list[i], ants_df_raw[ants_df_raw.bridge_idx == i ]['size(bytes)'].sum()) ] \n",
    "\n",
    "\n",
    "ants_df = pd.DataFrame( ants_df_data )\n",
    "ants_df.columns = [ 'file', 'size(bytes)']"
   ]
  },
  {
   "cell_type": "code",
   "execution_count": 59,
   "metadata": {},
   "outputs": [
    {
     "data": {
      "text/html": [
       "<div>\n",
       "<style scoped>\n",
       "    .dataframe tbody tr th:only-of-type {\n",
       "        vertical-align: middle;\n",
       "    }\n",
       "\n",
       "    .dataframe tbody tr th {\n",
       "        vertical-align: top;\n",
       "    }\n",
       "\n",
       "    .dataframe thead th {\n",
       "        text-align: right;\n",
       "    }\n",
       "</style>\n",
       "<table border=\"1\" class=\"dataframe\">\n",
       "  <thead>\n",
       "    <tr style=\"text-align: right;\">\n",
       "      <th></th>\n",
       "      <th>size(bytes)</th>\n",
       "      <th>size(bytes)_ants</th>\n",
       "      <th>ratio</th>\n",
       "      <th>h5 Size (GB)</th>\n",
       "      <th>Size (GB)</th>\n",
       "    </tr>\n",
       "    <tr>\n",
       "      <th>file</th>\n",
       "      <th></th>\n",
       "      <th></th>\n",
       "      <th></th>\n",
       "      <th></th>\n",
       "      <th></th>\n",
       "    </tr>\n",
       "  </thead>\n",
       "  <tbody>\n",
       "    <tr>\n",
       "      <th>JRC2018F_FAFB</th>\n",
       "      <td>580398481</td>\n",
       "      <td>5666205928</td>\n",
       "      <td>0.102432</td>\n",
       "      <td>0.580398</td>\n",
       "      <td>5.666206</td>\n",
       "    </tr>\n",
       "    <tr>\n",
       "      <th>JRC2018F_FCWB</th>\n",
       "      <td>1291412644</td>\n",
       "      <td>15790423994</td>\n",
       "      <td>0.081785</td>\n",
       "      <td>1.291413</td>\n",
       "      <td>15.790424</td>\n",
       "    </tr>\n",
       "    <tr>\n",
       "      <th>JRC2018F_JFRC2010</th>\n",
       "      <td>1648355301</td>\n",
       "      <td>16276832016</td>\n",
       "      <td>0.101270</td>\n",
       "      <td>1.648355</td>\n",
       "      <td>16.276832</td>\n",
       "    </tr>\n",
       "    <tr>\n",
       "      <th>JRC2018F_JFRC2013</th>\n",
       "      <td>1394903421</td>\n",
       "      <td>16006066624</td>\n",
       "      <td>0.087148</td>\n",
       "      <td>1.394903</td>\n",
       "      <td>16.006067</td>\n",
       "    </tr>\n",
       "    <tr>\n",
       "      <th>JRC2018F_TEFOR</th>\n",
       "      <td>1623178929</td>\n",
       "      <td>16264126795</td>\n",
       "      <td>0.099801</td>\n",
       "      <td>1.623179</td>\n",
       "      <td>16.264127</td>\n",
       "    </tr>\n",
       "  </tbody>\n",
       "</table>\n",
       "</div>"
      ],
      "text/plain": [
       "                   size(bytes)  size(bytes)_ants     ratio  h5 Size (GB)  \\\n",
       "file                                                                       \n",
       "JRC2018F_FAFB        580398481        5666205928  0.102432      0.580398   \n",
       "JRC2018F_FCWB       1291412644       15790423994  0.081785      1.291413   \n",
       "JRC2018F_JFRC2010   1648355301       16276832016  0.101270      1.648355   \n",
       "JRC2018F_JFRC2013   1394903421       16006066624  0.087148      1.394903   \n",
       "JRC2018F_TEFOR      1623178929       16264126795  0.099801      1.623179   \n",
       "\n",
       "                   Size (GB)  \n",
       "file                          \n",
       "JRC2018F_FAFB       5.666206  \n",
       "JRC2018F_FCWB      15.790424  \n",
       "JRC2018F_JFRC2010  16.276832  \n",
       "JRC2018F_JFRC2013  16.006067  \n",
       "JRC2018F_TEFOR     16.264127  "
      ]
     },
     "execution_count": 59,
     "metadata": {},
     "output_type": "execute_result"
    }
   ],
   "source": [
    "# Combine h5 size and ants dfield size tables\n",
    "billion=1e9\n",
    "\n",
    "sizes_h5['file'] = sizes_h5.apply( lambda x: x['file'].replace('.h5',''), axis=1 )\n",
    "df = sizes_h5.set_index('file').join(ants_df.set_index('file'), rsuffix='_ants')\n",
    "\n",
    "# Compute relative size\n",
    "df['ratio'] = df.apply( lambda x: x['size(bytes)']/x['size(bytes)_ants'], axis=1)\n",
    "df['h5 Size (GB)'] = df.apply( lambda x: x['size(bytes)']/billion, axis=1)\n",
    "df['Size (GB)'] = df.apply( lambda x: x['size(bytes)_ants']/billion, axis=1)\n",
    "df"
   ]
  },
  {
   "cell_type": "code",
   "execution_count": 70,
   "metadata": {},
   "outputs": [
    {
     "name": "stdout",
     "output_type": "stream",
     "text": [
      "writing :  h5SizeTable_20190917.tex\n"
     ]
    },
    {
     "data": {
      "text/html": [
       "<div>\n",
       "<style scoped>\n",
       "    .dataframe tbody tr th:only-of-type {\n",
       "        vertical-align: middle;\n",
       "    }\n",
       "\n",
       "    .dataframe tbody tr th {\n",
       "        vertical-align: top;\n",
       "    }\n",
       "\n",
       "    .dataframe thead th {\n",
       "        text-align: right;\n",
       "    }\n",
       "</style>\n",
       "<table border=\"1\" class=\"dataframe\">\n",
       "  <thead>\n",
       "    <tr style=\"text-align: right;\">\n",
       "      <th></th>\n",
       "      <th>Size (Gb)</th>\n",
       "      <th>h5 Size (Gb)</th>\n",
       "      <th>Size Ratio</th>\n",
       "    </tr>\n",
       "    <tr>\n",
       "      <th>Transform</th>\n",
       "      <th></th>\n",
       "      <th></th>\n",
       "      <th></th>\n",
       "    </tr>\n",
       "  </thead>\n",
       "  <tbody>\n",
       "    <tr>\n",
       "      <th>JRC2018F_FAFB</th>\n",
       "      <td>5.666206</td>\n",
       "      <td>0.580398</td>\n",
       "      <td>0.102432</td>\n",
       "    </tr>\n",
       "    <tr>\n",
       "      <th>JRC2018F_FCWB</th>\n",
       "      <td>15.790424</td>\n",
       "      <td>1.291413</td>\n",
       "      <td>0.081785</td>\n",
       "    </tr>\n",
       "    <tr>\n",
       "      <th>JRC2018F_JFRC2010</th>\n",
       "      <td>16.276832</td>\n",
       "      <td>1.648355</td>\n",
       "      <td>0.101270</td>\n",
       "    </tr>\n",
       "    <tr>\n",
       "      <th>JRC2018F_JFRC2013</th>\n",
       "      <td>16.006067</td>\n",
       "      <td>1.394903</td>\n",
       "      <td>0.087148</td>\n",
       "    </tr>\n",
       "    <tr>\n",
       "      <th>JRC2018F_TEFOR</th>\n",
       "      <td>16.264127</td>\n",
       "      <td>1.623179</td>\n",
       "      <td>0.099801</td>\n",
       "    </tr>\n",
       "  </tbody>\n",
       "</table>\n",
       "</div>"
      ],
      "text/plain": [
       "                   Size (Gb)  h5 Size (Gb)  Size Ratio\n",
       "Transform                                             \n",
       "JRC2018F_FAFB       5.666206      0.580398    0.102432\n",
       "JRC2018F_FCWB      15.790424      1.291413    0.081785\n",
       "JRC2018F_JFRC2010  16.276832      1.648355    0.101270\n",
       "JRC2018F_JFRC2013  16.006067      1.394903    0.087148\n",
       "JRC2018F_TEFOR     16.264127      1.623179    0.099801"
      ]
     },
     "execution_count": 70,
     "metadata": {},
     "output_type": "execute_result"
    }
   ],
   "source": [
    "df.index.names = ['Transform']\n",
    "df.columns= ['size(bytes)', 'size(bytes)_ants', 'Size Ratio', 'h5 Size (Gb)', 'Size (Gb)']\n",
    "\n",
    "df_toWrite = df[[ 'Size (Gb)', 'h5 Size (Gb)','Size Ratio']]\n",
    "\n",
    "h5size_table_f = 'h5SizeTable_%s.tex'%(datetime.date.today().strftime('%Y%m%d'))\n",
    "\n",
    "# Should I write\n",
    "if( True):\n",
    "    print( 'writing : ', h5size_table_f )\n",
    "    with open( h5size_table_f, 'w') as f:\n",
    "        f.write( df_toWrite.to_latex())\n",
    "        \n",
    "df_toWrite"
   ]
  },
  {
   "cell_type": "code",
   "execution_count": null,
   "metadata": {},
   "outputs": [],
   "source": []
  }
 ],
 "metadata": {
  "kernelspec": {
   "display_name": "Python [conda env:py36]",
   "language": "python",
   "name": "conda-env-py36-py"
  },
  "language_info": {
   "codemirror_mode": {
    "name": "ipython",
    "version": 3
   },
   "file_extension": ".py",
   "mimetype": "text/x-python",
   "name": "python",
   "nbconvert_exporter": "python",
   "pygments_lexer": "ipython3",
   "version": "3.6.3"
  }
 },
 "nbformat": 4,
 "nbformat_minor": 2
}
