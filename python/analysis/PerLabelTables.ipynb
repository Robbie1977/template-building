{
 "cells": [
  {
   "cell_type": "markdown",
   "metadata": {},
   "source": [
    "Generate tables of statistics per-label for the supplement"
   ]
  },
  {
   "cell_type": "code",
   "execution_count": null,
   "metadata": {},
   "outputs": [],
   "source": [
    "import sys\n",
    "import glob\n",
    "import re\n",
    "import fnmatch\n",
    "import math\n",
    "import datetime\n",
    "import re\n",
    "import os\n",
    "from os import listdir\n",
    "from os.path import join, isfile, basename\n",
    "\n",
    "import itertools\n",
    "\n",
    "import numpy as np\n",
    "from numpy import float32, int32, uint8, dtype, genfromtxt\n",
    "\n",
    "from scipy.stats import ttest_ind\n",
    "\n",
    "import pandas as pd\n",
    "\n",
    "import matplotlib\n",
    "import matplotlib.pyplot as plt\n",
    "from matplotlib.ticker import MultipleLocator, LogLocator, FormatStrFormatter\n",
    "%matplotlib inline\n",
    "\n",
    "sys.path.append(\"../\") # go to parent dir\n",
    "import template_common as tc"
   ]
  },
  {
   "cell_type": "code",
   "execution_count": null,
   "metadata": {},
   "outputs": [],
   "source": [
    "from IPython.core.display import display, HTML\n",
    "display(HTML(\"<style>.container { width:90% !important; }</style>\"))"
   ]
  },
  {
   "cell_type": "code",
   "execution_count": null,
   "metadata": {},
   "outputs": [],
   "source": [
    "# Global options\n",
    "write_files_and_tables = True"
   ]
  },
  {
   "cell_type": "code",
   "execution_count": null,
   "metadata": {},
   "outputs": [],
   "source": [
    "dist_df, jac_df, hess_df, timeMem_df = tc.readStatTables()\n",
    "grouped_label_table, total_table = tc.groupTables( dist_df, jac_df, hess_df, timeMem_df, tc.template_list  )"
   ]
  },
  {
   "cell_type": "code",
   "execution_count": null,
   "metadata": {},
   "outputs": [],
   "source": [
    "template_order = ['JFRC2010','JFRC2013','JRC2018','FCWB','Tefor']\n",
    "alg_order = ['ANTs A','ANTs B','ANTs C','CMTK A','CMTK B','CMTK C', 'Elastix A', 'Elastix B']\n",
    "pd.options.display.float_format = '{:,.3f}'.format\n",
    "\n",
    "row_order_tuples = [(x,y) for x,y in itertools.product( template_order, alg_order )]\n",
    "\n",
    "date_string = datetime.date.today().strftime('%Y%m%d')\n",
    "\n",
    "for label in tc.labels:\n",
    "\n",
    "    print( label )\n",
    "    df_l = dist_table[ dist_table.LABEL == label ]\n",
    "    df_writeme = df_l[['TEMPLATE','ALG','DISTANCE_mean','DISTANCE_std','DISTANCE_p10','DISTANCE_median','DISTANCE_p90','count']]\n",
    "    df_writeme.columns = ['Template','Algorithm','Mean','Std dev','10th perc','median','90th perc','N']\n",
    "    df_writeme = tc.toFloat( df_writeme, ['Mean','Std dev','10th perc','median','90th perc'] )\n",
    "    df_writeme = df_writeme.set_index( ['Template','Algorithm'])\n",
    "    \n",
    "    # Re-order rows as desired\n",
    "    df_writeme = df_writeme.loc[pd.MultiIndex.from_tuples( row_order_tuples )]\n",
    "    print( df_writeme )\n",
    "    \n",
    "    f = 'label_tables/label_%s_%s.tex' % ( label, date_string )\n",
    "\n",
    "    if( write_files_and_tables ):\n",
    "        print( f )\n",
    "        with open( f, 'w') as tex_file:\n",
    "            print( '\\\\begin{table}', file=tex_file )\n",
    "            print( df_writeme.to_latex( multirow='True'), file=tex_file)\n",
    "            print( '\\caption{{ {} }}'.format( tc.get_label_string( label ).replace('_','\\_')), file=tex_file )\n",
    "            print( '\\caption{{ {} }}'.format( tc.get_label_string( label ).replace('_','\\_')) )\n",
    "            print( '\\end{table}', file=tex_file )"
   ]
  }
 ],
 "metadata": {
  "kernelspec": {
   "display_name": "Python [conda env:py36]",
   "language": "python",
   "name": "conda-env-py36-py"
  },
  "language_info": {
   "codemirror_mode": {
    "name": "ipython",
    "version": 3
   },
   "file_extension": ".py",
   "mimetype": "text/x-python",
   "name": "python",
   "nbconvert_exporter": "python",
   "pygments_lexer": "ipython3",
   "version": "3.6.3"
  }
 },
 "nbformat": 4,
 "nbformat_minor": 2
}
