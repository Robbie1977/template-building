{
 "cells": [
  {
   "cell_type": "markdown",
   "metadata": {},
   "source": [
    "Compute mean distances and nblast scores for neurons from LM\n",
    "as well as traced EM neurons carried through several \"bridging\" \n",
    "regstrations from EM to LM\n",
    "\n",
    "See\n",
    "https://github.com/bocklab/temca2data/tree/master/geometry_analysis"
   ]
  },
  {
   "cell_type": "code",
   "execution_count": null,
   "metadata": {
    "collapsed": false
   },
   "outputs": [],
   "source": [
    "library(nat)\n",
    "library(nat.flybrains)\n",
    "library(flycircuit)\n",
    "library(elmr)\n",
    "library(catmaid)\n",
    "library(mushroom)\n",
    "library(magrittr)\n",
    "library(reshape2)\n",
    "library(dplyr)\n",
    "library(ggplot2)\n",
    "library(igraph)\n",
    "library(grid)\n",
    "library(reshape2)\n",
    "library(rgl)\n",
    "library(dendroextras)\n",
    "library(dendextend)"
   ]
  },
  {
   "cell_type": "code",
   "execution_count": null,
   "metadata": {
    "collapsed": false
   },
   "outputs": [],
   "source": [
    "# Source Zhihao's (ZZ) functions \n",
    "fafb_dir='/groups/saalfeld/home/bogovicj/dev/template/temca2data/geometry_analysis'\n",
    "setwd( fafb_dir )\n",
    "source(file.path(fafb_dir,\"functions.R\"))\n",
    "\n",
    "load(paste0(getwd(), \"/data/lm_coll_subset_170331.rda\"))\n",
    "\n",
    "setwd( '/groups/saalfeld/home/bogovicj/dev/template/template-building/R' )"
   ]
  },
  {
   "cell_type": "code",
   "execution_count": null,
   "metadata": {
    "collapsed": false
   },
   "outputs": [],
   "source": [
    "# The neurons that ZZ uses in his analysis\n",
    "name_list=c(\"35447\",\"39139\",\"49865\",\"62434\",\"23512\",\"30434\",\"53671\",\"57402\",\n",
    "            \"65762\",\"36390\",\"42421\",\"32399\",\"57241\",\"57414\",\"23569\",\"39682\",\n",
    "            \"51886\",\"54072\",\"46493\",\"40749\",\"57410\",\"27884\",\"192547\",\"45242\",\n",
    "            \"22594\",\"27611\",\"37250\",\"56424\",\"67408\",\"40306\",\"40790\",\"39668\",\n",
    "            \"32214\",\"36108\",\"186573\",\"22976\",\"38885\",\"53631\",\"57418\",\"57422\",\n",
    "            \"1785034\",\"27303\",\"1775706\",\"24622\",\"35246\",\"40637\",\"24726\",\"775731\",\n",
    "            \"24251\",\"43539\",\"771242\",\"30791\",\"57333\",\"57337\",\"57341\",\"67637\",\n",
    "            \"27246\",\"41308\",\"57319\",\"165303\",\"23829\",\"22132\",\"23597\",\"27295\",\n",
    "            \"57311\",\"57323\",\"57353\",\"57381\",\"61221\",\"755022\",\"2863104\",\"23432\",\n",
    "            \"22422\",\"56623\",\"61773\",\"28876\",\"30891\",\"33903\",\"581536\",\"58686\",\n",
    "            \"21999\",\"16\",\"22906\",\"57361\",\"57365\",\"57307\",\"60799\",\"68697\",\"27048\",\n",
    "            \"57349\",\"65465\",\"22277\",\"22744\",\"400943\",\"51080\",\"52106\",\"55125\",\n",
    "            \"57246\",\"39254\",\"57499\",\"73937\",\"37935\",\"42927\",\"55085\",\"57003\",\n",
    "            \"23134\",\"41578\")"
   ]
  },
  {
   "cell_type": "code",
   "execution_count": null,
   "metadata": {
    "collapsed": false
   },
   "outputs": [],
   "source": [
    "# load a set of neurons\n",
    "\n",
    "load(\"/groups/saalfeld/home/bogovicj/dev/template/template-building-pub/R/jrc2018_fb_ca_coll.RData\")\n",
    "\n",
    "load(\"/groups/saalfeld/home/bogovicj/dev/template/template-building-pub/R/fcwb_fb_ca_coll.RData\")\n",
    "\n",
    "load(\"/groups/saalfeld/home/bogovicj/dev/template/template-building-pub/R/zz_fb_ca_coll.RData\")\n"
   ]
  },
  {
   "cell_type": "code",
   "execution_count": null,
   "metadata": {
    "collapsed": false
   },
   "outputs": [],
   "source": [
    "\n",
    "# standardize the glomerular (aka subtype) names of PNs\n",
    "fb_ca_coll[,'std_glom'] = glom_data[fb_ca_coll[,'glomerulus']]\n",
    "jrc2018_fb_ca_coll[,'std_glom'] = glom_data[jrc2018_fb_ca_coll[,'glomerulus']]\n",
    "fcwb_fb_ca_coll[,'std_glom'] = glom_data[fcwb_fb_ca_coll[,'glomerulus']]\n",
    "\n",
    "# load pre-randomly selected LM PN data for analysis\n",
    "# note that the LM PNs have been trimed to only keep their calyx collaterals\n",
    "message( 'gloms' )\n",
    "lm_std_gloms = c(fc_std_gloms, gj_std_gloms) %>% unique\n",
    "\n",
    "# given a list of neurons, calculate pair-wise measurement (mean distance) and summarize results into a table\n",
    "# for FAFB EM PNs\n",
    "message( 'EM mean distance' )\n",
    "fb_coll_tbl = summarize_pair_wise( fb_ca_coll, fb_std_gloms, 'FAFB', get_dist_summary )\n",
    "jrc2018_fb_coll_tbl = summarize_pair_wise( jrc2018_fb_ca_coll, fb_std_gloms, 'FAFB_JRC2018', get_dist_summary )\n",
    "fcwb_fb_coll_tbl = summarize_pair_wise( fcwb_fb_ca_coll, fb_std_gloms, 'FAFB_FCWB', get_dist_summary )\n",
    "\n",
    "# given a list of neurons, calculate pair-wise measurement (nblast score) and summarize results into a table\n",
    "# for FAFB EM PNs\n",
    "message( 'EM nblast' )\n",
    "fb_nblast_tbl = summarize_pair_wise( fb_ca_coll, fb_std_gloms, 'FAFB', get_nblast_score )\n",
    "jrc2018_fb_nblast_tbl = summarize_pair_wise( jrc2018_fb_ca_coll, fb_std_gloms, 'FAFB_JRC2018', get_nblast_score )\n",
    "fcwb_fb_nblast_tbl = summarize_pair_wise( fcwb_fb_ca_coll, fb_std_gloms, 'FAFB_FCWB', get_nblast_score )\n",
    "\n",
    "\n",
    "# lm_subset_170331 is a subset of LM PNs from sampling the whole population of LM PNs from both sources (flycircuit and Jefferis2007)\n",
    "lm_coll_subset = lm_subset_170331\n",
    "\n",
    "# remove an extra \"DM5\" and an extra \"DL2d\" according to Marta C.'s corrected identifications of EM PN counts\n",
    "message( 'remove' )\n",
    "to_remove = c(which(lm_coll_subset[,'Glomerulus'] %in% \"DM5\")[[1]],\n",
    "  which(lm_coll_subset[,'Glomerulus'] %in% \"DL2d\")[[1]])\n",
    "lm_coll_subset = lm_coll_subset[-to_remove]\n",
    "\n",
    "\n",
    "# Same as above but for LM PNs\n",
    "message( 'LM mean distance' )\n",
    "lm_coll_tbl_subset = summarize_pair_wise(lm_coll_subset, lm_std_gloms, 'LM', get_dist_summary)\n",
    "message( 'LM nblast' )\n",
    "lm_nblast_subset = summarize_pair_wise(lm_coll_subset, lm_std_gloms, 'LM', get_nblast_score)\n",
    "\n"
   ]
  },
  {
   "cell_type": "code",
   "execution_count": null,
   "metadata": {
    "collapsed": false
   },
   "outputs": [],
   "source": [
    "# lm_std_gloms\n",
    "print(head(fb_coll_tbl))\n",
    "print( ' ')\n",
    "print( ' ')\n",
    "print(head(jrc2018_fb_coll_tbl))\n",
    "print( ' ')\n",
    "print( ' ')\n",
    "print(head(fcwb_fb_coll_tbl))"
   ]
  },
  {
   "cell_type": "code",
   "execution_count": null,
   "metadata": {
    "collapsed": false
   },
   "outputs": [],
   "source": [
    "# combine the resulting tables together for plotting\n",
    "\n",
    "###########################################\n",
    "# USE FAFB -> JRC2018 -> FCWB REGISTRATION\n",
    "###########################################\n",
    "emlm_tbl_subset = rbind( lm_coll_tbl_subset, fb_coll_tbl, jrc2018_fb_coll_tbl ) %>% \n",
    "    mutate(type=factor(.$type))\n",
    "\n",
    "emlm_nblast_tbl = rbind( lm_nblast_subset, fb_nblast_tbl, jrc2018_fb_nblast_tbl ) %>% \n",
    "    mutate(type=factor(.$type))\n",
    "\n",
    "# order glom by difference between LM and EM------\n",
    "all_glom_rank = rank_glom_by_diff(emlm_tbl_subset) %>%\n",
    "  c(gsub(\"glomerulus \", \"\", fb_gloms_extra) %>% sort) %>%\n",
    "  print\n",
    "\n",
    "\n",
    "######################################\n",
    "# USE DIRECT TO FCWB REGISTRATION\n",
    "######################################\n",
    "# emlm_tbl_subset = rbind( lm_coll_tbl_subset, fb_coll_tbl, fcwb_fb_coll_tbl ) %>% \n",
    "#     mutate(type=factor(.$type))\n",
    "\n",
    "# emlm_nblast_tbl = rbind( lm_nblast_subset, fb_nblast_tbl, fcwb_fb_nblast_tbl ) %>% \n",
    "#     mutate(type=factor(.$type))\n",
    "\n",
    "# message( 'rank' )\n",
    "# all_glom_rank = rank_glom_by_diff(emlm_tbl_subset2) %>%\n",
    "#   c(gsub(\"glomerulus \", \"\", fb_gloms_extra) %>% sort) %>%\n",
    "#   print"
   ]
  },
  {
   "cell_type": "code",
   "execution_count": null,
   "metadata": {
    "collapsed": false
   },
   "outputs": [],
   "source": [
    "results = tidyr::complete(emlm_tbl_subset, type, groups)\n",
    "results$type = factor(results$type, levels=all_glom_rank)\n",
    "results = mutate(results, pseudo_mean = dist_mean)"
   ]
  },
  {
   "cell_type": "code",
   "execution_count": null,
   "metadata": {
    "collapsed": false
   },
   "outputs": [],
   "source": [
    "# Distance dcatter plot\n",
    "\n",
    "\n",
    "ggplot(results, aes(y=dist_mean, x=groups)) +\n",
    "  geom_jitter(aes(color=groups), size = 2.8, width=.36) +\n",
    "  facet_grid(. ~ type, switch = \"x\") +\n",
    "  theme(axis.text.x = element_blank(),\n",
    "        axis.ticks.x = element_blank(),\n",
    "        strip.text.x = element_text(size=10),\n",
    "        strip.background = element_rect(fill='white'),\n",
    "        legend.title = element_blank(),\n",
    "        text=element_text(size=10),\n",
    "        legend.position = \"topright\",\n",
    "        panel.spacing = unit(.2, \"lines\"),\n",
    "        panel.grid.minor = element_blank(),\n",
    "        panel.grid.major.x = element_blank(),\n",
    "        asp=20) +\n",
    "  scale_y_continuous(breaks=scales::pretty_breaks(n=8), limits = c(0,17), expand=c(0,0)) +\n",
    "  scale_color_discrete(labels=c(\"EM\", \"LM\")) +\n",
    "  ylab(\"pair-wise mean distance\") +\n",
    "  xlab(\"glomeruli\") "
   ]
  },
  {
   "cell_type": "code",
   "execution_count": null,
   "metadata": {
    "collapsed": false
   },
   "outputs": [],
   "source": [
    "# Distance Histogram\n",
    "\n",
    "data_tbl = emlm_tbl_subset\n",
    "mean_tbl = filter(data_tbl, type %in% unname(glom_data[fb_gloms])) %>%\n",
    "  group_by(groups) %>%\n",
    "  summarize(m=mean(dist_mean), sd=sd(dist_mean))\n",
    "\n",
    "idx = which(data_tbl$dist_mean > 10)\n",
    "data_tbl[idx, 'dist_mean'] = rep(10.2, length(idx))\n",
    "ggplot(data_tbl, aes(x=dist_mean, fill=groups)) +\n",
    "  stat_bin(breaks=seq(1, 10.5, 0.5), position=\"dodge\") +\n",
    "  scale_y_continuous(breaks = scales::pretty_breaks(n=10), limit=c(0,22), expand=c(0,0)) +\n",
    "  scale_x_continuous(breaks=seq(1, 10.5, 0.5), labels=c(seq(1, 10, 0.5), \"> 10\")) +\n",
    "#   scale_fill_discrete(labels=c('EM1', 'EM2', 'LM')) +\n",
    "  annotate(\"point\", x=3.5, y=21.5, size=.5) +\n",
    "  annotate(\"point\", x=5.5, y=21.5, size=.5) +\n",
    "  theme(legend.title = element_blank(),\n",
    "        text=element_text(size=20),\n",
    "        legend.position = 'right',\n",
    "        panel.background = element_blank(),\n",
    "        panel.grid.minor = element_blank(),\n",
    "        axis.line = element_line()) +\n",
    "  ylab(\"counts\") +\n",
    "  xlab(\"mean distance\")\n"
   ]
  }
 ],
 "metadata": {
  "kernelspec": {
   "display_name": "R",
   "language": "R",
   "name": "ir"
  },
  "language_info": {
   "codemirror_mode": "r",
   "file_extension": ".r",
   "mimetype": "text/x-r-source",
   "name": "R",
   "pygments_lexer": "r",
   "version": "3.4.0"
  }
 },
 "nbformat": 4,
 "nbformat_minor": 0
}
